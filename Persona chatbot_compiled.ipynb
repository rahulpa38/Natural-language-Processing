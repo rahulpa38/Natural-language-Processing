{
  "nbformat": 4,
  "nbformat_minor": 0,
  "metadata": {
    "colab": {
      "name": "NLP Project-2.ipynb",
      "provenance": [],
      "collapsed_sections": [],
      "machine_shape": "hm"
    },
    "kernelspec": {
      "name": "python3",
      "display_name": "Python 3"
    },
    "accelerator": "GPU"
  },
  "cells": [
    {
      "cell_type": "code",
      "metadata": {
        "id": "OB8iwbGhcGX9",
        "colab_type": "code",
        "colab": {
          "base_uri": "https://localhost:8080/",
          "height": 62
        },
        "outputId": "cef88851-8885-4532-809a-3f85a8bc8884"
      },
      "source": [
        "import tensorflow"
      ],
      "execution_count": 2,
      "outputs": [
        {
          "output_type": "display_data",
          "data": {
            "text/html": [
              "<p style=\"color: red;\">\n",
              "The default version of TensorFlow in Colab will soon switch to TensorFlow 2.x.<br>\n",
              "We recommend you <a href=\"https://www.tensorflow.org/guide/migrate\" target=\"_blank\">upgrade</a> now \n",
              "or ensure your notebook will continue to use TensorFlow 1.x via the <code>%tensorflow_version 1.x</code> magic:\n",
              "<a href=\"https://colab.research.google.com/notebooks/tensorflow_version.ipynb\" target=\"_blank\">more info</a>.</p>\n"
            ],
            "text/plain": [
              "<IPython.core.display.HTML object>"
            ]
          },
          "metadata": {
            "tags": []
          }
        }
      ]
    },
    {
      "cell_type": "code",
      "metadata": {
        "id": "DHP4CedTcKDD",
        "colab_type": "code",
        "colab": {
          "base_uri": "https://localhost:8080/",
          "height": 79
        },
        "outputId": "1279d8e5-3289-4ad5-eee1-961159f9e3ce"
      },
      "source": [
        "from keras.preprocessing.text import Tokenizer\n",
        "from keras.preprocessing.sequence import pad_sequences\n",
        "import numpy as np"
      ],
      "execution_count": 1,
      "outputs": [
        {
          "output_type": "stream",
          "text": [
            "Using TensorFlow backend.\n"
          ],
          "name": "stderr"
        },
        {
          "output_type": "display_data",
          "data": {
            "text/html": [
              "<p style=\"color: red;\">\n",
              "The default version of TensorFlow in Colab will soon switch to TensorFlow 2.x.<br>\n",
              "We recommend you <a href=\"https://www.tensorflow.org/guide/migrate\" target=\"_blank\">upgrade</a> now \n",
              "or ensure your notebook will continue to use TensorFlow 1.x via the <code>%tensorflow_version 1.x</code> magic:\n",
              "<a href=\"https://colab.research.google.com/notebooks/tensorflow_version.ipynb\" target=\"_blank\">more info</a>.</p>\n"
            ],
            "text/plain": [
              "<IPython.core.display.HTML object>"
            ]
          },
          "metadata": {
            "tags": []
          }
        }
      ]
    },
    {
      "cell_type": "code",
      "metadata": {
        "id": "dcyM5pTmcNGP",
        "colab_type": "code",
        "colab": {}
      },
      "source": [
        "# import requests\n",
        "# from random import randint\n",
        "# from bs4 import BeautifulSoup"
      ],
      "execution_count": 0,
      "outputs": []
    },
    {
      "cell_type": "code",
      "metadata": {
        "id": "EYIVZ9hRcP58",
        "colab_type": "code",
        "colab": {}
      },
      "source": [
        "# result = requests.get('https://bigbangtrans.wordpress.com/series-1-episode-1-pilot-episode/')"
      ],
      "execution_count": 0,
      "outputs": []
    },
    {
      "cell_type": "code",
      "metadata": {
        "id": "ulLgmwtqcTEH",
        "colab_type": "code",
        "colab": {
          "base_uri": "https://localhost:8080/",
          "height": 121
        },
        "outputId": "d9daacbc-f492-4bf4-8f7f-eb83e376f1df"
      },
      "source": [
        "# from google.colab import drive\n",
        "# drive.mount('/content/drive')"
      ],
      "execution_count": 3,
      "outputs": [
        {
          "output_type": "stream",
          "text": [
            "Go to this URL in a browser: https://accounts.google.com/o/oauth2/auth?client_id=947318989803-6bn6qk8qdgf4n4g3pfee6491hc0brc4i.apps.googleusercontent.com&redirect_uri=urn%3aietf%3awg%3aoauth%3a2.0%3aoob&response_type=code&scope=email%20https%3a%2f%2fwww.googleapis.com%2fauth%2fdocs.test%20https%3a%2f%2fwww.googleapis.com%2fauth%2fdrive%20https%3a%2f%2fwww.googleapis.com%2fauth%2fdrive.photos.readonly%20https%3a%2f%2fwww.googleapis.com%2fauth%2fpeopleapi.readonly\n",
            "\n",
            "Enter your authorization code:\n",
            "··········\n",
            "Mounted at /content/drive\n"
          ],
          "name": "stdout"
        }
      ]
    },
    {
      "cell_type": "code",
      "metadata": {
        "id": "osF2Hz2Gfo3f",
        "colab_type": "code",
        "colab": {}
      },
      "source": [
        "import pickle"
      ],
      "execution_count": 0,
      "outputs": []
    },
    {
      "cell_type": "markdown",
      "metadata": {
        "id": "kHDE7A-CCiWW",
        "colab_type": "text"
      },
      "source": [
        "# Web Scraping Big Bang Theory Data"
      ]
    },
    {
      "cell_type": "code",
      "metadata": {
        "id": "fNcHCjn5cUk-",
        "colab_type": "code",
        "colab": {}
      },
      "source": [
        "# src = result.content"
      ],
      "execution_count": 0,
      "outputs": []
    },
    {
      "cell_type": "code",
      "metadata": {
        "id": "zMTtxVGcc-5m",
        "colab_type": "code",
        "colab": {}
      },
      "source": [
        "# soup = BeautifulSoup(src,  \"html.parser\")"
      ],
      "execution_count": 0,
      "outputs": []
    },
    {
      "cell_type": "code",
      "metadata": {
        "id": "NCluAjd6dAmc",
        "colab_type": "code",
        "colab": {}
      },
      "source": [
        "## Take all the links from that current page so that we can scrape all the links in the loop in the next cell\n",
        "# div_web = soup.find(\"div\", {\"id\": \"pages-2\"})\n",
        "# all_links = []\n",
        "\n",
        "# ## Current page append link\n",
        "# all_links.append('https://bigbangtrans.wordpress.com/series-1-episode-1-pilot-episode/')\n",
        "\n",
        "# ## Find the links on that page given the above div part\n",
        "# links = div_web.findAll('a')\n",
        "\n",
        "# ## Loop on all the links and save them in an array\n",
        "# for a in links:\n",
        "#     if 'About' not in a.text:\n",
        "#       all_links.append(a['href'])"
      ],
      "execution_count": 0,
      "outputs": []
    },
    {
      "cell_type": "code",
      "metadata": {
        "id": "SBSW6HHXdC9O",
        "colab_type": "code",
        "colab": {}
      },
      "source": [
        "import re"
      ],
      "execution_count": 0,
      "outputs": []
    },
    {
      "cell_type": "code",
      "metadata": {
        "id": "ecUIb9AMdEza",
        "colab_type": "code",
        "colab": {}
      },
      "source": [
        "# def preprocess_text(text):\n",
        "    \n",
        "#     text = text.lower()\n",
        "#     text = re.sub(r\"i'm\", \"i am\", text)\n",
        "#     text = re.sub(r\"he's\", \"he is\", text)\n",
        "#     text = re.sub(r\"she's\", \"she is\", text)\n",
        "#     text = re.sub(r\"it's\", \"it is\", text)\n",
        "#     text = re.sub(r\"that's\", \"that is\", text)\n",
        "#     text = re.sub(r\"what's\", \"that is\", text)\n",
        "#     text = re.sub(r\"where's\", \"where is\", text)\n",
        "#     text = re.sub(r\"how's\", \"how is\", text)\n",
        "#     text = re.sub(r\"\\'ll\", \" will\", text)\n",
        "#     text = re.sub(r\"\\'ve\", \" have\", text)\n",
        "#     text = re.sub(r\"\\'re\", \" are\", text)\n",
        "#     text = re.sub(r\"\\'d\", \" would\", text)\n",
        "#     text = re.sub(r\"\\'re\", \" are\", text)\n",
        "#     text = re.sub(r\"won't\", \"will not\", text)\n",
        "#     text = re.sub(r\"can't\", \"cannot\", text)\n",
        "#     text = re.sub(r\"n't\", \" not\", text)\n",
        "#     text = re.sub(r\"n'\", \"ng\", text)\n",
        "#     text = re.sub(r\"'bout\", \"about\", text)\n",
        "#     text = re.sub(r\"'til\", \"until\", text)\n",
        "#     text = re.sub(r\"[-()\\\"#/@;:<>{}`+=~|.!?,]\", \"\", text)\n",
        "    \n",
        "#     return text\n",
        "\n",
        "\n",
        "# ## In variable text - speaker and then their conversations will be stored\n",
        "# speaker_text= []\n",
        "# ## To calculate conversations lost due to web scraping \n",
        "# conversation_lost = 0\n",
        "\n",
        "# ## loop on all the links from where we have to scrap data\n",
        "# for link in all_links:\n",
        "  \n",
        "# ## request on that link \n",
        "#     result = requests.get(link)\n",
        "\n",
        "# ## got the content\n",
        "#     src = result.content\n",
        "# ## Create Beautiful soup object  \n",
        "#     soup = BeautifulSoup(src,'html.parser')\n",
        "# ## Find div element with the given class\n",
        "#     data = soup.find(\"div\",class_ = \"entrytext\")\n",
        "  \n",
        "# ## FInd paragraph children element\n",
        "#     paragraph_text = data.findChildren(\"p\")\n",
        "  \n",
        "# ## final_conversation stores conversations of big bang theory on that particular \n",
        "# #page \n",
        "#     final_conversation = []\n",
        " \n",
        "#   ## loop on all the p elements\n",
        "#     for p in paragraph_text:\n",
        "#       ## Get the conversation based on the given page\n",
        "#         conversation = p.find(\"span\")\n",
        "#         if conversation != None and len(list(conversation.descendants)) == 1:\n",
        "#           final_conversation.append(conversation.contents)\n",
        "#         elif conversation == None:\n",
        "#            final_conversation.append(p.text)\n",
        "#         else:\n",
        "#           conversation_lost += 1\n",
        "    \n",
        "# ## seperate speaker and content based on the conversations  \n",
        "#     for conversation in final_conversation:\n",
        "#       try:\n",
        "#         speaker, content = ''.join(conversation).split(\":\", 1)\n",
        "#       except ValueError:\n",
        "#         continue\n",
        "#       if speaker and content:\n",
        "# ## if speaker and content is not empty then append the conversations in the text list\n",
        "#         speaker_text.append([speaker,preprocess_text(content.strip())])\n",
        "                 "
      ],
      "execution_count": 0,
      "outputs": []
    },
    {
      "cell_type": "code",
      "metadata": {
        "id": "t9OEKvz3dHhs",
        "colab_type": "code",
        "colab": {}
      },
      "source": [
        "# np.save(\"/content/drive/My Drive/speaker_text.npy\",np.asarray(speaker_text))"
      ],
      "execution_count": 0,
      "outputs": []
    },
    {
      "cell_type": "code",
      "metadata": {
        "id": "etfFJoyBdM5M",
        "colab_type": "code",
        "colab": {}
      },
      "source": [
        "# Loading speaker and repsonse data\n",
        "# speaker_text = np.load(\"/content/drive/My Drive/speaker_text.npy\")"
      ],
      "execution_count": 0,
      "outputs": []
    },
    {
      "cell_type": "markdown",
      "metadata": {
        "id": "lqEX_3FCCn8i",
        "colab_type": "text"
      },
      "source": [
        "# Speaker and Reponse - x_train and y_train"
      ]
    },
    {
      "cell_type": "code",
      "metadata": {
        "id": "9C7_FVxrdRLf",
        "colab_type": "code",
        "colab": {}
      },
      "source": [
        "# Creating speaker and response data\n",
        "\n",
        "# x_train = []\n",
        "# y_train = []\n",
        "\n",
        "# ## process the conversation to apply on gensim model\n",
        "# first_row = True\n",
        "# for data in speaker_text:\n",
        "#     if first_row == True:\n",
        "#       old = data[1]\n",
        "#       first_row = False\n",
        "#       continue\n",
        "# ## X_train and y_train are in the form of questions and\n",
        "# ##answers which will be later passed to gensim model\n",
        "#     x_train.append(old)\n",
        "#     y_train.append(data[1])\n",
        "#     old = data[1]\n",
        "    \n",
        "# ## create a corpus now and train the gensim model    \n",
        "# corpus = x_train + y_train"
      ],
      "execution_count": 0,
      "outputs": []
    },
    {
      "cell_type": "code",
      "metadata": {
        "id": "FHoUpVt8dT08",
        "colab_type": "code",
        "colab": {}
      },
      "source": [
        "# np.save(\"/content/drive/My Drive/x_train.npy\",np.asarray(x_train))\n",
        "# np.save(\"/content/drive/My Drive/y_train.npy\",np.asarray(y_train))"
      ],
      "execution_count": 0,
      "outputs": []
    },
    {
      "cell_type": "code",
      "metadata": {
        "id": "3-4zc3e0dV-T",
        "colab_type": "code",
        "colab": {}
      },
      "source": [
        "## Loading speaker and response data \n",
        "# x_train = np.load(\"/content/drive/My Drive/x_train.npy\")\n",
        "# y_train = np.load(\"/content/drive/My Drive/y_train.npy\")"
      ],
      "execution_count": 0,
      "outputs": []
    },
    {
      "cell_type": "markdown",
      "metadata": {
        "id": "3IUNDctYCwTP",
        "colab_type": "text"
      },
      "source": [
        "# Appending 'bos' and 'eos' for the decoder data"
      ]
    },
    {
      "cell_type": "code",
      "metadata": {
        "id": "QMICo8wTdXLL",
        "colab_type": "code",
        "colab": {}
      },
      "source": [
        "# bos = '<bos> '\n",
        "# eos = ' <eos>'"
      ],
      "execution_count": 0,
      "outputs": []
    },
    {
      "cell_type": "code",
      "metadata": {
        "id": "ife3jTtjdZd8",
        "colab_type": "code",
        "colab": {}
      },
      "source": [
        "# y_train_input = [bos + convs + eos for convs in y_train]"
      ],
      "execution_count": 0,
      "outputs": []
    },
    {
      "cell_type": "code",
      "metadata": {
        "id": "61UYkBtUd08q",
        "colab_type": "code",
        "colab": {}
      },
      "source": [
        "# x_train = list(x_train)"
      ],
      "execution_count": 0,
      "outputs": []
    },
    {
      "cell_type": "code",
      "metadata": {
        "id": "oaEsVNAreD3D",
        "colab_type": "code",
        "colab": {
          "base_uri": "https://localhost:8080/",
          "height": 34
        },
        "outputId": "0a3711f5-5bf4-46bb-cc92-3b76d0ba8b02"
      },
      "source": [
        "# len(x_train)"
      ],
      "execution_count": 42,
      "outputs": [
        {
          "output_type": "execute_result",
          "data": {
            "text/plain": [
              "53331"
            ]
          },
          "metadata": {
            "tags": []
          },
          "execution_count": 42
        }
      ]
    },
    {
      "cell_type": "code",
      "metadata": {
        "id": "QQI1U7f2dbOx",
        "colab_type": "code",
        "colab": {}
      },
      "source": [
        "# corpus is the conversation of speaker and response data with bos and eos\n",
        "# corpus = x_train + y_train_input"
      ],
      "execution_count": 0,
      "outputs": []
    },
    {
      "cell_type": "code",
      "metadata": {
        "id": "2MvC-bSQeBg9",
        "colab_type": "code",
        "colab": {
          "base_uri": "https://localhost:8080/",
          "height": 34
        },
        "outputId": "6d993e20-e8b7-4c59-d883-371f1b3ba664"
      },
      "source": [
        "# len(corpus)"
      ],
      "execution_count": 41,
      "outputs": [
        {
          "output_type": "execute_result",
          "data": {
            "text/plain": [
              "106662"
            ]
          },
          "metadata": {
            "tags": []
          },
          "execution_count": 41
        }
      ]
    },
    {
      "cell_type": "code",
      "metadata": {
        "id": "89YFruqbddML",
        "colab_type": "code",
        "colab": {}
      },
      "source": [
        "# Creating a 2d array to fit the corpus in tokenizer\n",
        "# corpus_list = [sent.split() for sent in corpus]"
      ],
      "execution_count": 0,
      "outputs": []
    },
    {
      "cell_type": "code",
      "metadata": {
        "id": "UpMnEPQCeOnt",
        "colab_type": "code",
        "colab": {}
      },
      "source": [
        "vocab_size = 15000"
      ],
      "execution_count": 0,
      "outputs": []
    },
    {
      "cell_type": "markdown",
      "metadata": {
        "id": "1wn-qX_KC-cR",
        "colab_type": "text"
      },
      "source": [
        "# Using Keras tokenizer to fit on corpus to get the word index combination"
      ]
    },
    {
      "cell_type": "code",
      "metadata": {
        "id": "zma_E33meGZK",
        "colab_type": "code",
        "colab": {}
      },
      "source": [
        "# Initializing tokenizer with vocab size = 15000\n",
        "# tokenizer = Tokenizer(num_words=vocab_size)"
      ],
      "execution_count": 0,
      "outputs": []
    },
    {
      "cell_type": "code",
      "metadata": {
        "id": "yqA5UCl-eRYL",
        "colab_type": "code",
        "colab": {}
      },
      "source": [
        "## tokenizer is learning \n",
        "# tokenizer.fit_on_texts(corpus_list)"
      ],
      "execution_count": 0,
      "outputs": []
    },
    {
      "cell_type": "code",
      "metadata": {
        "id": "BaPNgaqPeTGN",
        "colab_type": "code",
        "colab": {}
      },
      "source": [
        "import pickle"
      ],
      "execution_count": 0,
      "outputs": []
    },
    {
      "cell_type": "code",
      "metadata": {
        "id": "NKIT2EDJeUYQ",
        "colab_type": "code",
        "colab": {}
      },
      "source": [
        "# with open('/content/drive/My Drive/tokenizer.pickle', 'wb') as handle:\n",
        "#     pickle.dump(tokenizer, handle, protocol=pickle.HIGHEST_PROTOCOL)"
      ],
      "execution_count": 0,
      "outputs": []
    },
    {
      "cell_type": "code",
      "metadata": {
        "id": "iSJCq7hFeWc2",
        "colab_type": "code",
        "colab": {}
      },
      "source": [
        "# with open('/content/drive/My Drive/tokenizer.pickle', 'rb') as handle:\n",
        "#     tokenizer = pickle.load(handle)"
      ],
      "execution_count": 0,
      "outputs": []
    },
    {
      "cell_type": "code",
      "metadata": {
        "id": "twKBPHvceaNz",
        "colab_type": "code",
        "colab": {}
      },
      "source": [
        "# a dictionary of word to index of 15000 most used words\n",
        "# word_idx = tokenizer.word_index"
      ],
      "execution_count": 0,
      "outputs": []
    },
    {
      "cell_type": "code",
      "metadata": {
        "id": "7NkWoloteet3",
        "colab_type": "code",
        "colab": {}
      },
      "source": [
        "# Creating a dictionary of word to index and index to word \n",
        "# index_word = {}\n",
        "# word_index = {}\n",
        "# for word, index in word_idx.items():\n",
        "#     if index < 15000:\n",
        "#         index_word[index] = word\n",
        "#         word_index[word] = index"
      ],
      "execution_count": 0,
      "outputs": []
    },
    {
      "cell_type": "code",
      "metadata": {
        "id": "kU9xjiwbehm-",
        "colab_type": "code",
        "colab": {}
      },
      "source": [
        "# with open('/content/drive/My Drive/index_word.pickle', 'wb') as fp:\n",
        "#     pickle.dump(index_word, fp)\n",
        "# with open('/content/drive/My Drive/word_index.pickle', 'wb') as fp:\n",
        "#     pickle.dump(word_index, fp)"
      ],
      "execution_count": 0,
      "outputs": []
    },
    {
      "cell_type": "code",
      "metadata": {
        "id": "u7_vZTyHekju",
        "colab_type": "code",
        "colab": {}
      },
      "source": [
        "# with open('/content/drive/My Drive/index_word.pickle', 'rb') as handle:\n",
        "#     index_word = pickle.load(handle)\n",
        "# with open('/content/drive/My Drive/word_index.pickle', 'rb') as handle:\n",
        "#     word_index = pickle.load(handle)"
      ],
      "execution_count": 0,
      "outputs": []
    },
    {
      "cell_type": "code",
      "metadata": {
        "id": "-HKvZ5UQAlx5",
        "colab_type": "code",
        "colab": {}
      },
      "source": [
        "# index_word"
      ],
      "execution_count": 0,
      "outputs": []
    },
    {
      "cell_type": "markdown",
      "metadata": {
        "id": "5FAfcQs5DNWt",
        "colab_type": "text"
      },
      "source": [
        "# Only taking the first 13 Characters and then appending 'bos 'and 'eos' in decoder input"
      ]
    },
    {
      "cell_type": "code",
      "metadata": {
        "id": "uC2I78q3erRk",
        "colab_type": "code",
        "colab": {}
      },
      "source": [
        "# Using only 13 characters then appending index of bos and eos in the \n",
        "# y_train1 = []\n",
        "# for y_row in y_train:\n",
        "#     y_train1.append(' '.join(y_row.split()[:13]))"
      ],
      "execution_count": 0,
      "outputs": []
    },
    {
      "cell_type": "code",
      "metadata": {
        "id": "qaNzQR53ezy6",
        "colab_type": "code",
        "colab": {}
      },
      "source": [
        "## Appending string bos and eos\n",
        "y_train1 = [bos + convs + eos for convs in y_train1]"
      ],
      "execution_count": 0,
      "outputs": []
    },
    {
      "cell_type": "code",
      "metadata": {
        "id": "RUmtsh0F-85K",
        "colab_type": "code",
        "colab": {}
      },
      "source": [
        "# y_train1"
      ],
      "execution_count": 0,
      "outputs": []
    },
    {
      "cell_type": "code",
      "metadata": {
        "id": "ME51zLy0e10p",
        "colab_type": "code",
        "colab": {}
      },
      "source": [
        "# Replacing word with index \n",
        "# encoding_seq = []\n",
        "# for sentence in x_train:\n",
        "#     encoding_seq.append([word_index[word] for word in sentence.split() if word in word_index])\n",
        "# decoding_seq = []\n",
        "# for sentence in y_train1:\n",
        "#     decoding_seq.append([word_index[word] for word in sentence.split() if word in word_index])            \n",
        "            "
      ],
      "execution_count": 0,
      "outputs": []
    },
    {
      "cell_type": "markdown",
      "metadata": {
        "id": "2XKaX7foDkzn",
        "colab_type": "text"
      },
      "source": [
        "# Padding 0's at the end of the string "
      ]
    },
    {
      "cell_type": "code",
      "metadata": {
        "id": "P8RytEpre3JZ",
        "colab_type": "code",
        "colab": {}
      },
      "source": [
        "# max_len = 15\n",
        "# def padding_sequences(encoding_seq,decoding_seq):\n",
        "#     encoding_data = pad_sequences(encoding_seq, maxlen = max_len, dtype='int32', padding='post', truncating='post')\n",
        "#     decoding_data = pad_sequences(decoding_seq, maxlen = max_len, dtype='int32', padding='post', truncating='post')\n",
        "#     return encoding_data,decoding_data"
      ],
      "execution_count": 0,
      "outputs": []
    },
    {
      "cell_type": "code",
      "metadata": {
        "id": "_J2FaXcWe4t4",
        "colab_type": "code",
        "colab": {}
      },
      "source": [
        "encoding_data,decoding_data = padding_sequences(encoding_seq,decoding_seq)"
      ],
      "execution_count": 0,
      "outputs": []
    },
    {
      "cell_type": "code",
      "metadata": {
        "id": "tUWy-R3ee6PF",
        "colab_type": "code",
        "colab": {}
      },
      "source": [
        "# with open(\"/content/drive/My Drive/decoding_data.pickle\", \"wb\") as fp: \n",
        "#     pickle.dump(decoding_data, fp)\n",
        "\n",
        "# with open(\"/content/drive/My Drive/encoding_data.pickle\", \"wb\") as fp: \n",
        "#     pickle.dump(encoding_data, fp)"
      ],
      "execution_count": 0,
      "outputs": []
    },
    {
      "cell_type": "code",
      "metadata": {
        "id": "EASquHGufCs2",
        "colab_type": "code",
        "colab": {}
      },
      "source": [
        "\n",
        "with open(\"/content/drive/My Drive/encoding_data.pickle\", \"rb\") as fp:\n",
        "    encoding_data = pickle.load(fp)\n",
        "    \n",
        "with open(\"/content/drive/My Drive/decoding_data.pickle\", \"rb\") as fp:\n",
        "    decoding_data = pickle.load(fp)"
      ],
      "execution_count": 0,
      "outputs": []
    },
    {
      "cell_type": "code",
      "metadata": {
        "id": "SaSd74Wdfz-0",
        "colab_type": "code",
        "colab": {
          "base_uri": "https://localhost:8080/",
          "height": 134
        },
        "outputId": "d8049c64-d37a-4a43-fa95-3fd7f8a5d125"
      },
      "source": [
        "decoding_data"
      ],
      "execution_count": 30,
      "outputs": [
        {
          "output_type": "execute_result",
          "data": {
            "text/plain": [
              "array([[   1,  980,  123, ...,    0,    0,    0],\n",
              "       [   1,  136,   24, ...,    7, 6033,    2],\n",
              "       [   1,  258,   14, ...,    0,    0,    0],\n",
              "       ...,\n",
              "       [   1,    8,    4, ...,   21,   14,    2],\n",
              "       [   1,   17,   41, ...,    0,    0,    0],\n",
              "       [   1,   37,   11, ..., 1551,   12,    2]], dtype=int32)"
            ]
          },
          "metadata": {
            "tags": []
          },
          "execution_count": 30
        }
      ]
    },
    {
      "cell_type": "markdown",
      "metadata": {
        "id": "zZS7RfPrDqb-",
        "colab_type": "text"
      },
      "source": [
        "# Getting decoding labels or decoder outputs using One Hot encoding "
      ]
    },
    {
      "cell_type": "code",
      "metadata": {
        "id": "pqLh5eecfH3M",
        "colab_type": "code",
        "colab": {}
      },
      "source": [
        "no_of_conves = len(encoding_data)\n",
        "max_len = 15\n",
        "vocab_size = 15000\n",
        "## Get Decoding Labels\n",
        "def get_decoding_labels(decoding_input_data):\n",
        "    decoding_labels = np.zeros((no_of_conves, max_len, vocab_size), dtype= np.float16)\n",
        "    for i, sequences in enumerate(decoding_input_data):\n",
        "        for j, sequence in enumerate(sequences):\n",
        "            if j > 0:\n",
        "                decoding_labels[i][j - 1][sequence] = 1.\n",
        "    return decoding_labels"
      ],
      "execution_count": 0,
      "outputs": []
    },
    {
      "cell_type": "code",
      "metadata": {
        "id": "t9cYQ75hfJXc",
        "colab_type": "code",
        "colab": {}
      },
      "source": [
        "decoding_labels = get_decoding_labels(decoding_data)"
      ],
      "execution_count": 0,
      "outputs": []
    },
    {
      "cell_type": "markdown",
      "metadata": {
        "id": "JGly2b8pDz0S",
        "colab_type": "text"
      },
      "source": [
        "#Generating Embedding matrix for embedding layer"
      ]
    },
    {
      "cell_type": "code",
      "metadata": {
        "id": "-fezrAxmfLXp",
        "colab_type": "code",
        "colab": {}
      },
      "source": [
        "embeddings_dict = {}\n",
        "\n",
        "## just tried with glove word2vec to check that the performance is good or not \n",
        "with open(\"/content/drive/My Drive/glove.6B.100d.txt\", 'r') as f:\n",
        "    for line in f:\n",
        "        values = line.split()\n",
        "        word = values[0]\n",
        "        vector = np.asarray(values[1:], \"float32\")\n",
        "        embeddings_dict[word] = vector\n",
        "\n",
        "embedding_dim = 100\n",
        "# embedding_words = {}\n",
        "embedding_matrix = np.zeros((len(index_word) + 1,embedding_dim ))\n",
        "count = 0 \n",
        "## create embedding matrix using word vector from glove\n",
        "for i,word in index_word.items():\n",
        "    if word != '<BOS>' and word != '<EOS>':\n",
        "        if word in embeddings_dict:\n",
        "            embedding_matrix[i] = embeddings_dict[word]\n",
        "        # else:\n",
        "            # print(word)\n",
        "        \n",
        "del embeddings_dict        "
      ],
      "execution_count": 0,
      "outputs": []
    },
    {
      "cell_type": "code",
      "metadata": {
        "id": "2wGzpdc_igYT",
        "colab_type": "code",
        "colab": {}
      },
      "source": [
        "from keras.layers import Embedding\n",
        "from keras.layers import Input, Dense, LSTM, TimeDistributed\n",
        "from keras.models import Model"
      ],
      "execution_count": 0,
      "outputs": []
    },
    {
      "cell_type": "markdown",
      "metadata": {
        "id": "S_vkiOYRD6Qv",
        "colab_type": "text"
      },
      "source": [
        "# Insert Embedding Layer"
      ]
    },
    {
      "cell_type": "code",
      "metadata": {
        "id": "MnQJcd2uigML",
        "colab_type": "code",
        "colab": {}
      },
      "source": [
        "def create_embedding_layer():\n",
        "## Create Embedding Layer    \n",
        "    embed_layer = Embedding(input_dim=vocab_size, output_dim = 100, trainable=True,)\n",
        "    embed_layer.build((None,))\n",
        "    embed_layer.set_weights([embedding_matrix])\n",
        "    return embed_layer"
      ],
      "execution_count": 0,
      "outputs": []
    },
    {
      "cell_type": "code",
      "metadata": {
        "id": "ZU5lnMqPikKF",
        "colab_type": "code",
        "colab": {
          "base_uri": "https://localhost:8080/",
          "height": 339
        },
        "outputId": "7837317c-f11a-4e4b-f8b3-192af2848f19"
      },
      "source": [
        "embed_layer = create_embedding_layer()"
      ],
      "execution_count": 12,
      "outputs": [
        {
          "output_type": "stream",
          "text": [
            "WARNING:tensorflow:From /usr/local/lib/python3.6/dist-packages/keras/backend/tensorflow_backend.py:66: The name tf.get_default_graph is deprecated. Please use tf.compat.v1.get_default_graph instead.\n",
            "\n",
            "WARNING:tensorflow:From /usr/local/lib/python3.6/dist-packages/keras/backend/tensorflow_backend.py:4432: The name tf.random_uniform is deprecated. Please use tf.random.uniform instead.\n",
            "\n",
            "WARNING:tensorflow:From /usr/local/lib/python3.6/dist-packages/keras/backend/tensorflow_backend.py:190: The name tf.get_default_session is deprecated. Please use tf.compat.v1.get_default_session instead.\n",
            "\n",
            "WARNING:tensorflow:From /usr/local/lib/python3.6/dist-packages/keras/backend/tensorflow_backend.py:197: The name tf.ConfigProto is deprecated. Please use tf.compat.v1.ConfigProto instead.\n",
            "\n",
            "WARNING:tensorflow:From /usr/local/lib/python3.6/dist-packages/keras/backend/tensorflow_backend.py:203: The name tf.Session is deprecated. Please use tf.compat.v1.Session instead.\n",
            "\n",
            "WARNING:tensorflow:From /usr/local/lib/python3.6/dist-packages/keras/backend/tensorflow_backend.py:207: The name tf.global_variables is deprecated. Please use tf.compat.v1.global_variables instead.\n",
            "\n",
            "WARNING:tensorflow:From /usr/local/lib/python3.6/dist-packages/keras/backend/tensorflow_backend.py:216: The name tf.is_variable_initialized is deprecated. Please use tf.compat.v1.is_variable_initialized instead.\n",
            "\n",
            "WARNING:tensorflow:From /usr/local/lib/python3.6/dist-packages/keras/backend/tensorflow_backend.py:223: The name tf.variables_initializer is deprecated. Please use tf.compat.v1.variables_initializer instead.\n",
            "\n",
            "WARNING:tensorflow:From /usr/local/lib/python3.6/dist-packages/keras/backend/tensorflow_backend.py:2725: The name tf.placeholder is deprecated. Please use tf.compat.v1.placeholder instead.\n",
            "\n"
          ],
          "name": "stdout"
        }
      ]
    },
    {
      "cell_type": "markdown",
      "metadata": {
        "id": "Nemt95X5EBmM",
        "colab_type": "text"
      },
      "source": [
        "# Build Model Function"
      ]
    },
    {
      "cell_type": "code",
      "metadata": {
        "id": "i3bCeLtygjHU",
        "colab_type": "code",
        "colab": {}
      },
      "source": [
        "def build_model(hidden_lstm_cell):\n",
        "\n",
        "## inputs - Embedding Layer - LSTM cell where each gives us states_h and states_c    \n",
        "    encoder_inputs = Input(shape=(max_len, ), dtype='int32',)\n",
        "    encoder_embedding = embed_layer(encoder_inputs)\n",
        "    encoder_LSTM = LSTM(hidden_lstm_cell, return_state=True)\n",
        "    _, state_h, state_c = encoder_LSTM(encoder_embedding)\n",
        "    \n",
        "## Outputs - decoder inputs - embedding layer - LSTM cell - Dense layer softmax function - which gives output to 0 - 1\n",
        "## and compare with decoder labels\n",
        "    decoder_inputs = Input(shape=(max_len, ), dtype='int32',)\n",
        "    decoder_embedding = embed_layer(decoder_inputs)\n",
        "    decoder_LSTM = LSTM(hidden_lstm_cell, return_state=True, return_sequences=True)\n",
        "    decoder_outputs, _, _ = decoder_LSTM(decoder_embedding, initial_state=[state_h, state_c])\n",
        "    \n",
        "    # dense_layer = Dense(VOCAB_SIZE, activation='softmax')\n",
        "    outputs = TimeDistributed(Dense(vocab_size, activation='softmax'))(decoder_outputs)\n",
        "    model = Model([encoder_inputs, decoder_inputs], outputs)\n",
        "    \n",
        "    return model"
      ],
      "execution_count": 0,
      "outputs": []
    },
    {
      "cell_type": "code",
      "metadata": {
        "id": "oY7TUoJLibD1",
        "colab_type": "code",
        "colab": {}
      },
      "source": [
        "seq2seq_model = build_model(hidden_lstm_cell = 300)"
      ],
      "execution_count": 0,
      "outputs": []
    },
    {
      "cell_type": "code",
      "metadata": {
        "id": "C51F_MHOicuk",
        "colab_type": "code",
        "colab": {
          "base_uri": "https://localhost:8080/",
          "height": 403
        },
        "outputId": "be48d3b6-f0de-417e-fe1b-f377e7595970"
      },
      "source": [
        "seq2seq_model.summary()"
      ],
      "execution_count": 15,
      "outputs": [
        {
          "output_type": "stream",
          "text": [
            "Model: \"model_1\"\n",
            "__________________________________________________________________________________________________\n",
            "Layer (type)                    Output Shape         Param #     Connected to                     \n",
            "==================================================================================================\n",
            "input_2 (InputLayer)            (None, 15)           0                                            \n",
            "__________________________________________________________________________________________________\n",
            "input_1 (InputLayer)            (None, 15)           0                                            \n",
            "__________________________________________________________________________________________________\n",
            "embedding_1 (Embedding)         (None, 15, 100)      1500000     input_1[0][0]                    \n",
            "                                                                 input_2[0][0]                    \n",
            "__________________________________________________________________________________________________\n",
            "lstm_1 (LSTM)                   [(None, 300), (None, 481200      embedding_1[0][0]                \n",
            "__________________________________________________________________________________________________\n",
            "lstm_2 (LSTM)                   [(None, 15, 300), (N 481200      embedding_1[1][0]                \n",
            "                                                                 lstm_1[0][1]                     \n",
            "                                                                 lstm_1[0][2]                     \n",
            "__________________________________________________________________________________________________\n",
            "time_distributed_1 (TimeDistrib (None, 15, 15000)    4515000     lstm_2[0][0]                     \n",
            "==================================================================================================\n",
            "Total params: 6,977,400\n",
            "Trainable params: 6,977,400\n",
            "Non-trainable params: 0\n",
            "__________________________________________________________________________________________________\n"
          ],
          "name": "stdout"
        }
      ]
    },
    {
      "cell_type": "markdown",
      "metadata": {
        "id": "aGT2Ax6ZEPig",
        "colab_type": "text"
      },
      "source": [
        "# Loss = Categorical CrossEntropy , Optimizer - ADAM"
      ]
    },
    {
      "cell_type": "code",
      "metadata": {
        "id": "OdLcXTliirGC",
        "colab_type": "code",
        "colab": {
          "base_uri": "https://localhost:8080/",
          "height": 104
        },
        "outputId": "ef248a75-c775-4f87-c1b1-6735ecd92fa1"
      },
      "source": [
        "### Seq2Seq Model Optimizer , Loss , metrics used\n",
        "seq2seq_model.compile(optimizer='adam', loss ='categorical_crossentropy', metrics = ['accuracy'])"
      ],
      "execution_count": 16,
      "outputs": [
        {
          "output_type": "stream",
          "text": [
            "WARNING:tensorflow:From /usr/local/lib/python3.6/dist-packages/keras/optimizers.py:793: The name tf.train.Optimizer is deprecated. Please use tf.compat.v1.train.Optimizer instead.\n",
            "\n",
            "WARNING:tensorflow:From /usr/local/lib/python3.6/dist-packages/keras/backend/tensorflow_backend.py:3576: The name tf.log is deprecated. Please use tf.math.log instead.\n",
            "\n"
          ],
          "name": "stdout"
        }
      ]
    },
    {
      "cell_type": "code",
      "metadata": {
        "id": "hivbT6GLmAg_",
        "colab_type": "code",
        "colab": {}
      },
      "source": [
        "# seq2seq_model.save('/content/drive/My Drive/epochs_0.h5')"
      ],
      "execution_count": 0,
      "outputs": []
    },
    {
      "cell_type": "code",
      "metadata": {
        "id": "cSRN3Zapm19Y",
        "colab_type": "code",
        "colab": {}
      },
      "source": [
        "from keras.models import load_model\n",
        "## Its written 50 but it was trained on 15 epochs\n",
        "seq2seq_model = load_model('/content/drive/My Drive/epochs_0.h5')"
      ],
      "execution_count": 0,
      "outputs": []
    },
    {
      "cell_type": "markdown",
      "metadata": {
        "id": "n2qAzPkIEY2O",
        "colab_type": "text"
      },
      "source": [
        "# Run Model with batch size = 400 and epochs = 20"
      ]
    },
    {
      "cell_type": "code",
      "metadata": {
        "id": "BGd5-j0aivOw",
        "colab_type": "code",
        "colab": {
          "base_uri": "https://localhost:8080/",
          "height": 826
        },
        "outputId": "fab2ec35-10b7-4696-94b2-0db1c1209818"
      },
      "source": [
        "EPOCHS = 20\n",
        "BATCH_SIZE = 400\n",
        "history = seq2seq_model.fit([encoding_data, decoding_data], \n",
        "                     decoding_labels, \n",
        "                     epochs=EPOCHS, \n",
        "                     batch_size=BATCH_SIZE)"
      ],
      "execution_count": 19,
      "outputs": [
        {
          "output_type": "stream",
          "text": [
            "WARNING:tensorflow:From /usr/local/lib/python3.6/dist-packages/tensorflow_core/python/ops/math_grad.py:1424: where (from tensorflow.python.ops.array_ops) is deprecated and will be removed in a future version.\n",
            "Instructions for updating:\n",
            "Use tf.where in 2.0, which has the same broadcast rule as np.where\n",
            "WARNING:tensorflow:From /usr/local/lib/python3.6/dist-packages/keras/backend/tensorflow_backend.py:1033: The name tf.assign_add is deprecated. Please use tf.compat.v1.assign_add instead.\n",
            "\n",
            "WARNING:tensorflow:From /usr/local/lib/python3.6/dist-packages/keras/backend/tensorflow_backend.py:1020: The name tf.assign is deprecated. Please use tf.compat.v1.assign instead.\n",
            "\n",
            "Epoch 1/20\n",
            "53331/53331 [==============================] - 127s 2ms/step - loss: 4.3091 - acc: 0.4118\n",
            "Epoch 2/20\n",
            "53331/53331 [==============================] - 118s 2ms/step - loss: 3.5513 - acc: 0.4751\n",
            "Epoch 3/20\n",
            "53331/53331 [==============================] - 121s 2ms/step - loss: 3.4554 - acc: 0.4808\n",
            "Epoch 4/20\n",
            "53331/53331 [==============================] - 122s 2ms/step - loss: 3.3861 - acc: 0.4830\n",
            "Epoch 5/20\n",
            "53331/53331 [==============================] - 122s 2ms/step - loss: 3.3215 - acc: 0.4889\n",
            "Epoch 6/20\n",
            "53331/53331 [==============================] - 122s 2ms/step - loss: 3.2656 - acc: 0.4934\n",
            "Epoch 7/20\n",
            "53331/53331 [==============================] - 122s 2ms/step - loss: 3.2137 - acc: 0.4982\n",
            "Epoch 8/20\n",
            "53331/53331 [==============================] - 122s 2ms/step - loss: 3.1543 - acc: 0.5039\n",
            "Epoch 9/20\n",
            "53331/53331 [==============================] - 122s 2ms/step - loss: 3.1040 - acc: 0.5089\n",
            "Epoch 10/20\n",
            "53331/53331 [==============================] - 122s 2ms/step - loss: 3.0627 - acc: 0.5124\n",
            "Epoch 11/20\n",
            "53331/53331 [==============================] - 122s 2ms/step - loss: 3.0275 - acc: 0.5149\n",
            "Epoch 12/20\n",
            "53331/53331 [==============================] - 121s 2ms/step - loss: 2.9952 - acc: 0.5171\n",
            "Epoch 13/20\n",
            "53331/53331 [==============================] - 121s 2ms/step - loss: 2.9676 - acc: 0.5193\n",
            "Epoch 14/20\n",
            "53331/53331 [==============================] - 121s 2ms/step - loss: 2.9416 - acc: 0.5210\n",
            "Epoch 15/20\n",
            "53331/53331 [==============================] - 121s 2ms/step - loss: 2.9189 - acc: 0.5226\n",
            "Epoch 16/20\n",
            "53331/53331 [==============================] - 120s 2ms/step - loss: 2.8972 - acc: 0.5239\n",
            "Epoch 17/20\n",
            "53331/53331 [==============================] - 119s 2ms/step - loss: 2.8788 - acc: 0.5250\n",
            "Epoch 18/20\n",
            "53331/53331 [==============================] - 119s 2ms/step - loss: 2.8600 - acc: 0.5264\n",
            "Epoch 19/20\n",
            "53331/53331 [==============================] - 119s 2ms/step - loss: 2.8425 - acc: 0.5274\n",
            "Epoch 20/20\n",
            "53331/53331 [==============================] - 120s 2ms/step - loss: 2.8254 - acc: 0.5286\n"
          ],
          "name": "stdout"
        }
      ]
    },
    {
      "cell_type": "code",
      "metadata": {
        "id": "zhkjHgIPi6bb",
        "colab_type": "code",
        "colab": {}
      },
      "source": [
        "seq2seq_model.save('/content/drive/My Drive/epochs_20.h5')"
      ],
      "execution_count": 0,
      "outputs": []
    },
    {
      "cell_type": "code",
      "metadata": {
        "id": "eOMCP57Opkjz",
        "colab_type": "code",
        "colab": {}
      },
      "source": [
        "with open('/content/drive/My Drive/seq2seqhist_20.pickle', 'wb') as file_pi:\n",
        "    pickle.dump(history.history, file_pi)"
      ],
      "execution_count": 0,
      "outputs": []
    },
    {
      "cell_type": "markdown",
      "metadata": {
        "id": "1g3efa8DgoE4",
        "colab_type": "text"
      },
      "source": [
        "# More 20 Epochs"
      ]
    },
    {
      "cell_type": "code",
      "metadata": {
        "id": "lPnB8FJly7BF",
        "colab_type": "code",
        "colab": {}
      },
      "source": [
        "history = seq2seq_model.fit([encoding_data, decoding_data], \n",
        "                     decoding_labels, \n",
        "                     epochs=EPOCHS, \n",
        "                    batch_size=BATCH_SIZE)\n",
        "\n"
      ],
      "execution_count": 0,
      "outputs": []
    },
    {
      "cell_type": "code",
      "metadata": {
        "id": "8t_RhJF-8AJn",
        "colab_type": "code",
        "colab": {}
      },
      "source": [
        "\n",
        "seq2seq_model.save('/content/drive/My Drive/epochs_40.h5')\n",
        "\n",
        "\n",
        "with open('/content/drive/My Drive/seq2seqhist_40.pickle', 'wb') as file_pi:\n",
        "    pickle.dump(history.history, file_pi)\n",
        "    "
      ],
      "execution_count": 0,
      "outputs": []
    },
    {
      "cell_type": "code",
      "metadata": {
        "id": "gMKn3lEDVD1K",
        "colab_type": "code",
        "colab": {}
      },
      "source": [
        "\n",
        "with open('/content/drive/My Drive/tokenizer.pickle', 'rb') as handle:\n",
        "    tokenizer = pickle.load(handle)"
      ],
      "execution_count": 0,
      "outputs": []
    },
    {
      "cell_type": "code",
      "metadata": {
        "id": "iZlMvSW_97FP",
        "colab_type": "code",
        "colab": {}
      },
      "source": [
        "## Load Word to Index Dictionary\n",
        "with open('/content/drive/My Drive/word_index.pickle', 'rb') as handle:\n",
        "    word_index = pickle.load(handle)\n"
      ],
      "execution_count": 0,
      "outputs": []
    },
    {
      "cell_type": "code",
      "metadata": {
        "id": "7UQ6TB728Tm0",
        "colab_type": "code",
        "colab": {}
      },
      "source": [
        "## Load Index to word Dictionary\n",
        "with open('/content/drive/My Drive/index_word.pickle', 'rb') as handle:\n",
        "    index_word = pickle.load(handle)\n"
      ],
      "execution_count": 0,
      "outputs": []
    },
    {
      "cell_type": "markdown",
      "metadata": {
        "id": "0uoQKL5eVuj4",
        "colab_type": "text"
      },
      "source": [
        "#Epoch 40 Output"
      ]
    },
    {
      "cell_type": "code",
      "metadata": {
        "id": "vpYbi3HJutkp",
        "colab_type": "code",
        "colab": {
          "base_uri": "https://localhost:8080/",
          "height": 370
        },
        "outputId": "a64da020-0fe1-4d69-d72e-7987f9c5789e"
      },
      "source": [
        "import re\n",
        "from keras.preprocessing.sequence import pad_sequences\n",
        "## doing preprocessing \n"
      ],
      "execution_count": 31,
      "outputs": [
        {
          "output_type": "stream",
          "text": [
            "whats up bro\n",
            "5  -  i\n",
            "3  -  <eos>\n",
            "3  -  <eos>\n",
            "3  -  <eos>\n",
            "hi\n",
            "5  -  i\n",
            "3  -  <eos>\n",
            "3  -  <eos>\n",
            "3  -  <eos>\n",
            "hey how are you\n",
            "5  -  i\n",
            "11  -  of\n",
            "that girl was really cute tho\n",
            "5  -  i\n",
            "3  -  <eos>\n",
            "3  -  <eos>\n",
            "3  -  <eos>\n",
            "that game was awesome\n",
            "5  -  i\n",
            "6  -  the\n"
          ],
          "name": "stdout"
        }
      ]
    },
    {
      "cell_type": "code",
      "metadata": {
        "id": "UF0H6UhnVXlK",
        "colab_type": "code",
        "colab": {}
      },
      "source": [
        "\n",
        "## Preprocess Test Data Function\n",
        "def preprocess_text(text):\n",
        "    \n",
        "    text = text.lower()\n",
        "    text = re.sub(r\"'til\", \"until\", text)\n",
        "    text = re.sub(r\"i'm\", \"i am\", text)\n",
        "    text = re.sub(r\"he's\", \"he is\", text)\n",
        "    text = re.sub(r\"\\'re\", \" are\", text)\n",
        "    text = re.sub(r\"that's\", \"that is\", text)\n",
        "    text = re.sub(r\"she's\", \"she is\", text)\n",
        "    text = re.sub(r\"it's\", \"it is\", text)\n",
        "    text = re.sub(r\"where's\", \"where is\", text)\n",
        "    text = re.sub(r\"what's\", \"that is\", text)\n",
        "    text = re.sub(r\"\\'ve\", \" have\", text)\n",
        "    text = re.sub(r\"how's\", \"how is\", text)\n",
        "    text = re.sub(r\"\\'ll\", \" will\", text)\n",
        "    text = re.sub(r\"'bout\", \"about\", text)\n",
        "    text = re.sub(r\"\\'d\", \" would\", text)\n",
        "    text = re.sub(r\"\\'re\", \" are\", text)\n",
        "    text = re.sub(r\"n't\", \" not\", text)\n",
        "    text = re.sub(r\"won't\", \"will not\", text)\n",
        "    text = re.sub(r\"can't\", \"cannot\", text)\n",
        "    text = re.sub(r\"n'\", \"ng\", text)\n",
        "    \n",
        "    \n",
        "    text = re.sub(r\"[-()\\\"#/@;:<>{}`+=~|.!?,]\", \"\", text)\n",
        "    \n",
        "    return text\n",
        "\n",
        "\n",
        "## Sample test Data\n",
        "speaker_test_data = [\"whats up\",\n",
        "                    \"hi\",\n",
        "                    \"how are you\",\n",
        "                    \"Thank You\",\n",
        "                    \"Sorry\"\n",
        "                    ]\n"
      ],
      "execution_count": 0,
      "outputs": []
    },
    {
      "cell_type": "markdown",
      "metadata": {
        "id": "JmqcpDCFhEPh",
        "colab_type": "text"
      },
      "source": [
        "# Function for running model on Test Data"
      ]
    },
    {
      "cell_type": "code",
      "metadata": {
        "id": "BgL9rvwdrQxZ",
        "colab_type": "code",
        "colab": {
          "base_uri": "https://localhost:8080/",
          "height": 84
        },
        "outputId": "7f83ee3d-b368-4e26-88eb-cd5bf137e532"
      },
      "source": [
        "!pip install rouge"
      ],
      "execution_count": 94,
      "outputs": [
        {
          "output_type": "stream",
          "text": [
            "Collecting rouge\n",
            "  Downloading https://files.pythonhosted.org/packages/63/ac/b93411318529980ab7f41e59ed64ec3ffed08ead32389e29eb78585dd55d/rouge-0.3.2-py3-none-any.whl\n",
            "Installing collected packages: rouge\n",
            "Successfully installed rouge-0.3.2\n"
          ],
          "name": "stdout"
        }
      ]
    },
    {
      "cell_type": "code",
      "metadata": {
        "id": "5bYk2wB4reUL",
        "colab_type": "code",
        "colab": {}
      },
      "source": [
        "reference_test_output = [ \" Nothing much\",\n",
        "                         \"Hello\",\n",
        "                         \"I am fine\",\n",
        "                         \"You're Welcome\"\n",
        "                         \"No problem\"\n",
        "                        ]"
      ],
      "execution_count": 0,
      "outputs": []
    },
    {
      "cell_type": "code",
      "metadata": {
        "id": "5eImu6pTVmsM",
        "colab_type": "code",
        "colab": {}
      },
      "source": [
        "import rouge as Rouge\n",
        "\n",
        "def test_data():\n",
        "\n",
        "  \n",
        "  # rouge1 = Rouge()\n",
        "  scores = 0\n",
        "  max_len = 15\n",
        "  ## Decoding input data for test set\n",
        "  decoding_input_test_data = np.asarray([np.zeros((15,))])\n",
        "  ## Appending index of '<bos>' and '<eos>\n",
        "  for a_array in decoding_input_test_data:\n",
        "      a_array[0] = word_index['<bos>']\n",
        "      a_array[14] = word_index['<eos>']\n",
        "  ## input string \n",
        "  for i,test_encoder_string in enumerate(speaker_test_data):\n",
        "      print(\"\\n\" + test_encoder_string + \"\\n\")\n",
        "      encoding_test_seq = []\n",
        "      test_encoder_string = preprocess_text(test_encoder_string)\n",
        "      ## Split the string\n",
        "      test_encoder_words = test_encoder_string.split()\n",
        "      encoding_test_seq.append([word_index[word] for word in test_encoder_words if word in word_index])\n",
        "\n",
        "      # encoding_test_seq = tokenizer.texts_to_sequences(test_encoder_words)\n",
        "      # print(\"encoding_test\", encoding_test_seq)\n",
        "      encoding_test_data = pad_sequences(encoding_test_seq, maxlen = max_len, dtype='int32', padding='post', truncating='post')\n",
        "      # print(encoding_test_data)\n",
        "      decoding_test_pdata = seq2seq_model.predict([encoding_test_data, decoding_input_test_data])\n",
        "      decoding_test_pdata = decoding_test_pdata[0][:,:14]\n",
        "      decoding_test_pdata = np.argmax(decoding_test_pdata, axis=1)\n",
        "      response_test_data = ''\n",
        "      for i in decoding_test_pdata:\n",
        "          if i in index_word:\n",
        "            if index_word[i] !='<eos>':\n",
        "              response_test_data += index_word[i] + \" \"\n",
        "      # scores += abs(rouge1.get_scores(response_test_data, reference_test_output[i]))\n",
        "\n",
        "      print(response_test_data)\n",
        "  # print(\"Average Rouge Score -  \",scores/len(reference_test_output))"
      ],
      "execution_count": 0,
      "outputs": []
    },
    {
      "cell_type": "code",
      "metadata": {
        "id": "95HbTSkuUyS3",
        "colab_type": "code",
        "colab": {
          "base_uri": "https://localhost:8080/",
          "height": 689
        },
        "outputId": "4e66a5a1-2f0b-45cf-94a4-46b4e27aaa4d"
      },
      "source": [
        "history = seq2seq_model.fit([encoding_data, decoding_data], \n",
        "                     decoding_labels, \n",
        "                     epochs=EPOCHS, \n",
        "                    batch_size=BATCH_SIZE)"
      ],
      "execution_count": 32,
      "outputs": [
        {
          "output_type": "stream",
          "text": [
            "Epoch 1/20\n",
            "53331/53331 [==============================] - 121s 2ms/step - loss: 2.5433 - acc: 0.5473\n",
            "Epoch 2/20\n",
            "53331/53331 [==============================] - 122s 2ms/step - loss: 2.5285 - acc: 0.5483\n",
            "Epoch 3/20\n",
            "53331/53331 [==============================] - 122s 2ms/step - loss: 2.5141 - acc: 0.5493\n",
            "Epoch 4/20\n",
            "53331/53331 [==============================] - 122s 2ms/step - loss: 2.4984 - acc: 0.5504\n",
            "Epoch 5/20\n",
            "53331/53331 [==============================] - 122s 2ms/step - loss: 2.4812 - acc: 0.5516\n",
            "Epoch 6/20\n",
            "53331/53331 [==============================] - 122s 2ms/step - loss: 2.4623 - acc: 0.5531\n",
            "Epoch 7/20\n",
            "53331/53331 [==============================] - 122s 2ms/step - loss: 2.4440 - acc: 0.5542\n",
            "Epoch 8/20\n",
            "53331/53331 [==============================] - 122s 2ms/step - loss: 2.4242 - acc: 0.5560\n",
            "Epoch 9/20\n",
            "53331/53331 [==============================] - 122s 2ms/step - loss: 2.4035 - acc: 0.5575\n",
            "Epoch 10/20\n",
            "53331/53331 [==============================] - 120s 2ms/step - loss: 2.3827 - acc: 0.5593\n",
            "Epoch 11/20\n",
            "53331/53331 [==============================] - 121s 2ms/step - loss: 2.3609 - acc: 0.5612\n",
            "Epoch 12/20\n",
            "53331/53331 [==============================] - 122s 2ms/step - loss: 2.3390 - acc: 0.5631\n",
            "Epoch 13/20\n",
            "53331/53331 [==============================] - 122s 2ms/step - loss: 2.3158 - acc: 0.5656\n",
            "Epoch 14/20\n",
            "53331/53331 [==============================] - 122s 2ms/step - loss: 2.2921 - acc: 0.5676\n",
            "Epoch 15/20\n",
            "53331/53331 [==============================] - 122s 2ms/step - loss: 2.2677 - acc: 0.5704\n",
            "Epoch 16/20\n",
            "53331/53331 [==============================] - 122s 2ms/step - loss: 2.2423 - acc: 0.5728\n",
            "Epoch 17/20\n",
            "53331/53331 [==============================] - 121s 2ms/step - loss: 2.2186 - acc: 0.5755\n",
            "Epoch 18/20\n",
            "53331/53331 [==============================] - 122s 2ms/step - loss: 2.1909 - acc: 0.5783\n",
            "Epoch 19/20\n",
            "53331/53331 [==============================] - 121s 2ms/step - loss: 2.1673 - acc: 0.5813\n",
            "Epoch 20/20\n",
            "53331/53331 [==============================] - 122s 2ms/step - loss: 2.1387 - acc: 0.5848\n"
          ],
          "name": "stdout"
        }
      ]
    },
    {
      "cell_type": "code",
      "metadata": {
        "id": "d8MekiENUyL-",
        "colab_type": "code",
        "colab": {}
      },
      "source": [
        "seq2seq_model.save('/content/drive/My Drive/epochs_60.h5')\n",
        "with open('/content/drive/My Drive/seq2seqhist_60.pickle', 'wb') as file_pi:\n",
        "  pickle.dump(history.history, file_pi) "
      ],
      "execution_count": 0,
      "outputs": []
    },
    {
      "cell_type": "markdown",
      "metadata": {
        "id": "waUtdZ7mfBfk",
        "colab_type": "text"
      },
      "source": [
        "# Output of 60 epochs looks much better than previous output of 40 epochs"
      ]
    },
    {
      "cell_type": "code",
      "metadata": {
        "id": "zEgoAzZP8Ze7",
        "colab_type": "code",
        "colab": {
          "base_uri": "https://localhost:8080/",
          "height": 672
        },
        "outputId": "8525701e-0354-461b-88b0-8ee043959499"
      },
      "source": [
        " ## Test output after 60 epochs \n",
        " test_data()"
      ],
      "execution_count": 35,
      "outputs": [
        {
          "output_type": "stream",
          "text": [
            "whats up bro\n",
            "\n",
            "5  -  i\n",
            "3  -  <eos>\n",
            "3  -  <eos>\n",
            "3  -  <eos>\n",
            "3  -  <eos>\n",
            "3  -  <eos>\n",
            "3  -  <eos>\n",
            "hi\n",
            "\n",
            "4  -  you\n",
            "3  -  <eos>\n",
            "3  -  <eos>\n",
            "3  -  <eos>\n",
            "3  -  <eos>\n",
            "3  -  <eos>\n",
            "3  -  <eos>\n",
            "13  -  in\n",
            "13  -  in\n",
            "13  -  in\n",
            "3  -  <eos>\n",
            "hey how are you\n",
            "\n",
            "5  -  i\n",
            "13  -  in\n",
            "13  -  in\n",
            "that girl was really cute tho\n",
            "\n",
            "5  -  i\n",
            "9  -  and\n",
            "3  -  <eos>\n",
            "3  -  <eos>\n",
            "3  -  <eos>\n",
            "that game was awesome\n",
            "\n",
            "5  -  i\n",
            "6  -  the\n",
            "13  -  in\n"
          ],
          "name": "stdout"
        }
      ]
    },
    {
      "cell_type": "markdown",
      "metadata": {
        "id": "gN8vhvbjhRZA",
        "colab_type": "text"
      },
      "source": [
        "# Training for 80th epoch"
      ]
    },
    {
      "cell_type": "code",
      "metadata": {
        "id": "bBGOnCREed6e",
        "colab_type": "code",
        "colab": {
          "base_uri": "https://localhost:8080/",
          "height": 689
        },
        "outputId": "6b8d71f9-a6af-4418-a9a0-4fa47b32d144"
      },
      "source": [
        "history = seq2seq_model.fit([encoding_data, decoding_data], \n",
        "                     decoding_labels, \n",
        "                     epochs=EPOCHS, \n",
        "                    batch_size=BATCH_SIZE)"
      ],
      "execution_count": 36,
      "outputs": [
        {
          "output_type": "stream",
          "text": [
            "Epoch 1/20\n",
            "53331/53331 [==============================] - 121s 2ms/step - loss: 2.1115 - acc: 0.5883\n",
            "Epoch 2/20\n",
            "53331/53331 [==============================] - 122s 2ms/step - loss: 2.0838 - acc: 0.5919\n",
            "Epoch 3/20\n",
            "53331/53331 [==============================] - 121s 2ms/step - loss: 2.0583 - acc: 0.5948\n",
            "Epoch 4/20\n",
            "53331/53331 [==============================] - 122s 2ms/step - loss: 2.0310 - acc: 0.5984\n",
            "Epoch 5/20\n",
            "53331/53331 [==============================] - 122s 2ms/step - loss: 2.0025 - acc: 0.6025\n",
            "Epoch 6/20\n",
            "53331/53331 [==============================] - 122s 2ms/step - loss: 1.9772 - acc: 0.6060\n",
            "Epoch 7/20\n",
            "53331/53331 [==============================] - 122s 2ms/step - loss: 1.9499 - acc: 0.6098\n",
            "Epoch 8/20\n",
            "53331/53331 [==============================] - 122s 2ms/step - loss: 1.9234 - acc: 0.6134\n",
            "Epoch 9/20\n",
            "53331/53331 [==============================] - 122s 2ms/step - loss: 1.8968 - acc: 0.6172\n",
            "Epoch 10/20\n",
            "53331/53331 [==============================] - 122s 2ms/step - loss: 1.8761 - acc: 0.6201\n",
            "Epoch 11/20\n",
            "53331/53331 [==============================] - 122s 2ms/step - loss: 1.8476 - acc: 0.6246\n",
            "Epoch 12/20\n",
            "53331/53331 [==============================] - 121s 2ms/step - loss: 1.8213 - acc: 0.6287\n",
            "Epoch 13/20\n",
            "53331/53331 [==============================] - 121s 2ms/step - loss: 1.7971 - acc: 0.6323\n",
            "Epoch 14/20\n",
            "53331/53331 [==============================] - 121s 2ms/step - loss: 1.7740 - acc: 0.6355\n",
            "Epoch 15/20\n",
            "53331/53331 [==============================] - 122s 2ms/step - loss: 1.7492 - acc: 0.6396\n",
            "Epoch 16/20\n",
            "53331/53331 [==============================] - 122s 2ms/step - loss: 1.7259 - acc: 0.6433\n",
            "Epoch 17/20\n",
            "53331/53331 [==============================] - 121s 2ms/step - loss: 1.7030 - acc: 0.6467\n",
            "Epoch 18/20\n",
            "53331/53331 [==============================] - 121s 2ms/step - loss: 1.6834 - acc: 0.6500\n",
            "Epoch 19/20\n",
            "53331/53331 [==============================] - 121s 2ms/step - loss: 1.6605 - acc: 0.6537\n",
            "Epoch 20/20\n",
            "53331/53331 [==============================] - 122s 2ms/step - loss: 1.6384 - acc: 0.6574\n"
          ],
          "name": "stdout"
        }
      ]
    },
    {
      "cell_type": "code",
      "metadata": {
        "id": "Ioo4oKQFnT67",
        "colab_type": "code",
        "colab": {
          "base_uri": "https://localhost:8080/",
          "height": 689
        },
        "outputId": "93910edd-7c6f-402c-ca7b-0c3959e1f5bd"
      },
      "source": [
        "history.history"
      ],
      "execution_count": 39,
      "outputs": [
        {
          "output_type": "execute_result",
          "data": {
            "text/plain": [
              "{'acc': [0.5883032391978885,\n",
              "  0.5918858971907986,\n",
              "  0.5948247744784001,\n",
              "  0.5983661793982505,\n",
              "  0.6025001092435083,\n",
              "  0.6059690138713438,\n",
              "  0.6097516785295007,\n",
              "  0.6133830864529033,\n",
              "  0.6172332532455342,\n",
              "  0.6201121296942267,\n",
              "  0.6246498281525965,\n",
              "  0.6286862541737324,\n",
              "  0.6323264127577339,\n",
              "  0.6355215569660206,\n",
              "  0.6396054842354904,\n",
              "  0.6433031450747433,\n",
              "  0.6467457944818726,\n",
              "  0.6500396899994514,\n",
              "  0.653692346114225,\n",
              "  0.6573625100693673],\n",
              " 'loss': [2.111452793221585,\n",
              "  2.0837926127073683,\n",
              "  2.058348197673339,\n",
              "  2.0309516435507184,\n",
              "  2.002491058543023,\n",
              "  1.9772040390873995,\n",
              "  1.9499101923657005,\n",
              "  1.9234281034325296,\n",
              "  1.8968487782954089,\n",
              "  1.8760866189968182,\n",
              "  1.8476008417251795,\n",
              "  1.821349088515895,\n",
              "  1.7970734205330197,\n",
              "  1.773974132440384,\n",
              "  1.7492296481167824,\n",
              "  1.7258648753414314,\n",
              "  1.7030263427487171,\n",
              "  1.68342905223288,\n",
              "  1.6604765450245185,\n",
              "  1.6384439853118802]}"
            ]
          },
          "metadata": {
            "tags": []
          },
          "execution_count": 39
        }
      ]
    },
    {
      "cell_type": "code",
      "metadata": {
        "id": "0Oz0qVfEnJNl",
        "colab_type": "code",
        "colab": {}
      },
      "source": [
        "seq2seq_model.save('/content/drive/My Drive/epochs_80.h5')\n",
        "with open('/content/drive/My Drive/seq2seqhist_80.pickle', 'wb') as file_pi:\n",
        "  pickle.dump(history.history, file_pi)"
      ],
      "execution_count": 0,
      "outputs": []
    },
    {
      "cell_type": "code",
      "metadata": {
        "id": "U9fCqfQGn-iF",
        "colab_type": "code",
        "colab": {
          "base_uri": "https://localhost:8080/",
          "height": 689
        },
        "outputId": "3c9e9acb-48ae-43f2-a95e-02a20f6bf349"
      },
      "source": [
        "history = seq2seq_model.fit([encoding_data, decoding_data], \n",
        "                     decoding_labels, \n",
        "                     epochs=EPOCHS, \n",
        "                    batch_size=BATCH_SIZE)"
      ],
      "execution_count": 41,
      "outputs": [
        {
          "output_type": "stream",
          "text": [
            "Epoch 1/20\n",
            "53331/53331 [==============================] - 121s 2ms/step - loss: 1.6173 - acc: 0.6608\n",
            "Epoch 2/20\n",
            "53331/53331 [==============================] - 121s 2ms/step - loss: 1.5979 - acc: 0.6639\n",
            "Epoch 3/20\n",
            "53331/53331 [==============================] - 119s 2ms/step - loss: 1.5781 - acc: 0.6674\n",
            "Epoch 4/20\n",
            "53331/53331 [==============================] - 120s 2ms/step - loss: 1.5575 - acc: 0.6713\n",
            "Epoch 5/20\n",
            "53331/53331 [==============================] - 121s 2ms/step - loss: 1.5389 - acc: 0.6740\n",
            "Epoch 6/20\n",
            "53331/53331 [==============================] - 121s 2ms/step - loss: 1.5202 - acc: 0.6774\n",
            "Epoch 7/20\n",
            "53331/53331 [==============================] - 121s 2ms/step - loss: 1.5001 - acc: 0.6815\n",
            "Epoch 8/20\n",
            "53331/53331 [==============================] - 120s 2ms/step - loss: 1.4836 - acc: 0.6841\n",
            "Epoch 9/20\n",
            "53331/53331 [==============================] - 121s 2ms/step - loss: 1.4657 - acc: 0.6871\n",
            "Epoch 10/20\n",
            "53331/53331 [==============================] - 122s 2ms/step - loss: 1.4464 - acc: 0.6908\n",
            "Epoch 11/20\n",
            "53331/53331 [==============================] - 121s 2ms/step - loss: 1.4289 - acc: 0.6937\n",
            "Epoch 12/20\n",
            "53331/53331 [==============================] - 121s 2ms/step - loss: 1.4112 - acc: 0.6971\n",
            "Epoch 13/20\n",
            "53331/53331 [==============================] - 121s 2ms/step - loss: 1.3968 - acc: 0.6997\n",
            "Epoch 14/20\n",
            "53331/53331 [==============================] - 122s 2ms/step - loss: 1.3795 - acc: 0.7030\n",
            "Epoch 15/20\n",
            "53331/53331 [==============================] - 122s 2ms/step - loss: 1.3640 - acc: 0.7056\n",
            "Epoch 16/20\n",
            "53331/53331 [==============================] - 121s 2ms/step - loss: 1.3489 - acc: 0.7088\n",
            "Epoch 17/20\n",
            "53331/53331 [==============================] - 121s 2ms/step - loss: 1.3333 - acc: 0.7117\n",
            "Epoch 18/20\n",
            "53331/53331 [==============================] - 121s 2ms/step - loss: 1.3196 - acc: 0.7143\n",
            "Epoch 19/20\n",
            "53331/53331 [==============================] - 120s 2ms/step - loss: 1.3055 - acc: 0.7166\n",
            "Epoch 20/20\n",
            "53331/53331 [==============================] - 120s 2ms/step - loss: 1.2933 - acc: 0.7191\n"
          ],
          "name": "stdout"
        }
      ]
    },
    {
      "cell_type": "code",
      "metadata": {
        "id": "GEt846_5ua7y",
        "colab_type": "code",
        "colab": {}
      },
      "source": [
        "seq2seq_model.save('/content/drive/My Drive/epochs_100.h5')\n",
        "with open('/content/drive/My Drive/seq2seqhist_100.pickle', 'wb') as file_pi:\n",
        "  pickle.dump(history.history, file_pi)"
      ],
      "execution_count": 0,
      "outputs": []
    },
    {
      "cell_type": "code",
      "metadata": {
        "id": "CcQbj5o7eVAZ",
        "colab_type": "code",
        "colab": {
          "base_uri": "https://localhost:8080/",
          "height": 672
        },
        "outputId": "9d6af3a5-5e7f-44b7-b813-751cefc17995"
      },
      "source": [
        "# with open('/content/drive/My Drive/seq2seqhist_20.pickle', 'rb') as handle:\n",
        "#     hist_20 = pickle.load(handle)\n",
        "# with open('/content/drive/My Drive/seq2seqhist_40.pickle', 'rb') as handle:\n",
        "#     hist_40 = pickle.load(handle)\n",
        "# with open('/content/drive/My Drive/seq2seqhist_60.pickle', 'rb') as handle:\n",
        "#     hist_60 = pickle.load(handle)\n",
        "# with open('/content/drive/My Drive/seq2seqhist_80.pickle', 'rb') as handle:\n",
        "#     hist_80 = pickle.load(handle)\n",
        "# with open('/content/drive/My Drive/seq2seqhist_100.pickle', 'rb') as handle:\n",
        "#     hist_100 = pickle.load(handle)\n",
        "\n",
        "# total_hist = {'loss':[],'acc': []}\n",
        "# total_hist['loss'] = hist_20['loss']\n",
        "# total_hist['loss'] = np.concatenate((total_hist['loss'], hist_40['loss'],hist_60['loss']))\n",
        "# total_hist['loss'] = np.concatenate((total_hist['loss'], hist_80['loss'],hist_100['loss']))\n",
        "# total_hist['acc'] = hist_20['acc']\n",
        "# total_hist['acc'] = np.concatenate((total_hist['acc'], hist_40['acc'],hist_60['acc']))\n",
        "# total_hist['acc'] = np.concatenate((total_hist['acc'], hist_80['acc'],hist_100['acc']))\n",
        "# # total\n",
        "# print(total_hist)\n"
      ],
      "execution_count": 48,
      "outputs": [
        {
          "output_type": "stream",
          "text": [
            "{'loss': array([4.30910634, 3.55133283, 3.45543734, 3.38607247, 3.32146541,\n",
            "       3.2656306 , 3.2137154 , 3.15425748, 3.10404143, 3.06273318,\n",
            "       3.02745943, 2.99523701, 2.96761459, 2.94159294, 2.91890812,\n",
            "       2.89724339, 2.87879326, 2.8600241 , 2.84252724, 2.82539997,\n",
            "       2.80977145, 2.79310894, 2.77780234, 2.76295375, 2.74909724,\n",
            "       2.73524325, 2.72176755, 2.70876434, 2.69650546, 2.68454463,\n",
            "       2.67222594, 2.6607425 , 2.64868038, 2.6360017 , 2.62365275,\n",
            "       2.61106358, 2.59849279, 2.58518617, 2.57189332, 2.55820335,\n",
            "       2.54331607, 2.52847877, 2.51412562, 2.49842323, 2.48120564,\n",
            "       2.46233307, 2.4440166 , 2.42417805, 2.40349978, 2.38265144,\n",
            "       2.36088955, 2.33898518, 2.31580278, 2.29206288, 2.26772156,\n",
            "       2.24233509, 2.21864629, 2.19090504, 2.16734137, 2.13865968,\n",
            "       2.11145279, 2.08379261, 2.0583482 , 2.03095164, 2.00249106,\n",
            "       1.97720404, 1.94991019, 1.9234281 , 1.89684878, 1.87608662,\n",
            "       1.84760084, 1.82134909, 1.79707342, 1.77397413, 1.74922965,\n",
            "       1.72586488, 1.70302634, 1.68342905, 1.66047655, 1.63844399,\n",
            "       1.61734961, 1.59792128, 1.57814575, 1.5574671 , 1.53890844,\n",
            "       1.52017759, 1.50010216, 1.48362892, 1.46571218, 1.44643377,\n",
            "       1.42893474, 1.41115596, 1.39682826, 1.37949646, 1.36398531,\n",
            "       1.34887941, 1.33329621, 1.31957907, 1.3055347 , 1.29325792]), 'acc': array([0.41179052, 0.47514329, 0.48079604, 0.48297738, 0.48890889,\n",
            "       0.49344034, 0.4981918 , 0.50385079, 0.50885476, 0.51244992,\n",
            "       0.51489878, 0.51706387, 0.51929272, 0.52101155, 0.52257661,\n",
            "       0.52393292, 0.52502047, 0.52643678, 0.52736307, 0.52860937,\n",
            "       0.52942191, 0.53065197, 0.53147325, 0.5325108 , 0.53333833,\n",
            "       0.53422087, 0.53525842, 0.53590094, 0.53665848, 0.53775603,\n",
            "       0.53847231, 0.53934235, 0.54018238, 0.54111367, 0.54187496,\n",
            "       0.54268124, 0.54359253, 0.54446382, 0.54534761, 0.5463639 ,\n",
            "       0.5473452 , 0.54825524, 0.54933528, 0.55040033, 0.55162038,\n",
            "       0.55311795, 0.5542455 , 0.55604933, 0.55753814, 0.55934447,\n",
            "       0.56123955, 0.56309713, 0.56555349, 0.56762108, 0.5703637 ,\n",
            "       0.57277506, 0.57554143, 0.57829905, 0.58125793, 0.58483184,\n",
            "       0.58830324, 0.5918859 , 0.59482477, 0.59836618, 0.60250011,\n",
            "       0.60596901, 0.60975168, 0.61338309, 0.61723325, 0.62011213,\n",
            "       0.62464983, 0.62868625, 0.63232641, 0.63552156, 0.63960548,\n",
            "       0.64330315, 0.64674579, 0.65003969, 0.65369235, 0.65736251,\n",
            "       0.66080641, 0.66394155, 0.6674292 , 0.67129687, 0.67395949,\n",
            "       0.67744089, 0.68145481, 0.68405993, 0.68712881, 0.69078772,\n",
            "       0.6936566 , 0.69708174, 0.69967061, 0.70304951, 0.70560337,\n",
            "       0.70880226, 0.71169238, 0.71425375, 0.71657885, 0.71905771])}\n"
          ],
          "name": "stdout"
        }
      ]
    },
    {
      "cell_type": "code",
      "metadata": {
        "id": "AvDOWvvYyllg",
        "colab_type": "code",
        "colab": {}
      },
      "source": [
        "with open('/content/drive/My Drive/total_hist_100.pickle', 'wb') as file_pi:\n",
        "  pickle.dump(total_hist, file_pi)"
      ],
      "execution_count": 0,
      "outputs": []
    },
    {
      "cell_type": "code",
      "metadata": {
        "id": "DH0Zzar1qkXa",
        "colab_type": "code",
        "colab": {}
      },
      "source": [
        "import matplotlib.pyplot as plt"
      ],
      "execution_count": 0,
      "outputs": []
    },
    {
      "cell_type": "code",
      "metadata": {
        "id": "CwNccy9xz-c6",
        "colab_type": "code",
        "colab": {}
      },
      "source": [
        "def plot_data():\n",
        "    plt.plot(total_hist['acc'])\n",
        "    plt.title('Model accuracy First 200 Epochs')\n",
        "    plt.ylabel('Accuracy')\n",
        "    plt.xlabel('Epoch')\n",
        "    plt.legend(['Train', 'Test'], loc='upper left')\n",
        "    plt.show()\n",
        "\n",
        "    # Plot training & validation loss values\n",
        "    plt.plot(total_hist['loss'])\n",
        "    plt.title('Model loss First 200 Epochs')\n",
        "    plt.ylabel('Loss')\n",
        "    plt.xlabel('Epoch')\n",
        "    plt.legend(['Train', 'Test'], loc='upper left')\n",
        "    plt.show()"
      ],
      "execution_count": 0,
      "outputs": []
    },
    {
      "cell_type": "code",
      "metadata": {
        "id": "kIQyaAb0yMdp",
        "colab_type": "code",
        "colab": {
          "base_uri": "https://localhost:8080/",
          "height": 573
        },
        "outputId": "46609f0e-904b-48c5-b758-7ef7d4ff0bb9"
      },
      "source": [
        "plot_data()"
      ],
      "execution_count": 61,
      "outputs": [
        {
          "output_type": "display_data",
          "data": {
            "image/png": "[encoded data removed]",
            "text/plain": [
              "<Figure size 432x288 with 1 Axes>"
            ]
          },
          "metadata": {
            "tags": []
          }
        },
        {
          "output_type": "display_data",
          "data": {
            "image/png": "[encoded data removed]",
            "text/plain": [
              "<Figure size 432x288 with 1 Axes>"
            ]
          },
          "metadata": {
            "tags": []
          }
        }
      ]
    },
    {
      "cell_type": "code",
      "metadata": {
        "id": "3Y0XAEQPyOcD",
        "colab_type": "code",
        "colab": {
          "base_uri": "https://localhost:8080/",
          "height": 823
        },
        "outputId": "2aed6520-defe-4213-d8b5-1576ce7d89e3"
      },
      "source": [
        "test_data()"
      ],
      "execution_count": 56,
      "outputs": [
        {
          "output_type": "stream",
          "text": [
            "whats up bro\n",
            "\n",
            "i\n",
            "<eos>\n",
            "<eos>\n",
            "<eos>\n",
            "<eos>\n",
            "<eos>\n",
            "hi\n",
            "\n",
            "i\n",
            "in\n",
            "a\n",
            "in\n",
            "<eos>\n",
            "in\n",
            "<eos>\n",
            "<eos>\n",
            "hey how are you\n",
            "\n",
            "i\n",
            "in\n",
            "in\n",
            "in\n",
            "in\n",
            "in\n",
            "<eos>\n",
            "that girl was really cute\n",
            "\n",
            "and\n",
            "and\n",
            "to\n",
            "that game was awesome\n",
            "\n",
            "i\n",
            "the\n",
            "in\n",
            "in\n",
            "and\n",
            "is\n",
            "is\n",
            "is\n",
            "is\n",
            "is\n",
            "<eos>\n",
            "is\n",
            "is\n",
            "<eos>\n"
          ],
          "name": "stdout"
        }
      ]
    },
    {
      "cell_type": "code",
      "metadata": {
        "id": "Oi6RadsjybAm",
        "colab_type": "code",
        "colab": {
          "base_uri": "https://localhost:8080/",
          "height": 689
        },
        "outputId": "d43982c1-8a75-42ae-b600-3a189ec64f2d"
      },
      "source": [
        "history = seq2seq_model.fit([encoding_data, decoding_data], \n",
        "                     decoding_labels, \n",
        "                     epochs=EPOCHS, \n",
        "                    batch_size=BATCH_SIZE)"
      ],
      "execution_count": 58,
      "outputs": [
        {
          "output_type": "stream",
          "text": [
            "Epoch 1/20\n",
            "53331/53331 [==============================] - 120s 2ms/step - loss: 1.2766 - acc: 0.7222\n",
            "Epoch 2/20\n",
            "53331/53331 [==============================] - 118s 2ms/step - loss: 1.2627 - acc: 0.7249\n",
            "Epoch 3/20\n",
            "53331/53331 [==============================] - 119s 2ms/step - loss: 1.2492 - acc: 0.7278\n",
            "Epoch 4/20\n",
            "53331/53331 [==============================] - 122s 2ms/step - loss: 1.2352 - acc: 0.7300\n",
            "Epoch 5/20\n",
            "53331/53331 [==============================] - 122s 2ms/step - loss: 1.2219 - acc: 0.7330\n",
            "Epoch 6/20\n",
            "53331/53331 [==============================] - 122s 2ms/step - loss: 1.2105 - acc: 0.7351\n",
            "Epoch 7/20\n",
            "53331/53331 [==============================] - 121s 2ms/step - loss: 1.2013 - acc: 0.7366\n",
            "Epoch 8/20\n",
            "53331/53331 [==============================] - 121s 2ms/step - loss: 1.1854 - acc: 0.7399\n",
            "Epoch 9/20\n",
            "53331/53331 [==============================] - 122s 2ms/step - loss: 1.1750 - acc: 0.7421\n",
            "Epoch 10/20\n",
            "53331/53331 [==============================] - 121s 2ms/step - loss: 1.1635 - acc: 0.7443\n",
            "Epoch 11/20\n",
            "53331/53331 [==============================] - 120s 2ms/step - loss: 1.1510 - acc: 0.7468\n",
            "Epoch 12/20\n",
            "53331/53331 [==============================] - 120s 2ms/step - loss: 1.1373 - acc: 0.7495\n",
            "Epoch 13/20\n",
            "53331/53331 [==============================] - 120s 2ms/step - loss: 1.1257 - acc: 0.7521\n",
            "Epoch 14/20\n",
            "53331/53331 [==============================] - 120s 2ms/step - loss: 1.1151 - acc: 0.7541\n",
            "Epoch 15/20\n",
            "53331/53331 [==============================] - 120s 2ms/step - loss: 1.1095 - acc: 0.7548\n",
            "Epoch 16/20\n",
            "53331/53331 [==============================] - 119s 2ms/step - loss: 1.0968 - acc: 0.7572\n",
            "Epoch 17/20\n",
            "53331/53331 [==============================] - 120s 2ms/step - loss: 1.0832 - acc: 0.7605\n",
            "Epoch 18/20\n",
            "53331/53331 [==============================] - 120s 2ms/step - loss: 1.0731 - acc: 0.7625\n",
            "Epoch 19/20\n",
            "53331/53331 [==============================] - 119s 2ms/step - loss: 1.0633 - acc: 0.7644\n",
            "Epoch 20/20\n",
            "53331/53331 [==============================] - 120s 2ms/step - loss: 1.0585 - acc: 0.7654\n"
          ],
          "name": "stdout"
        }
      ]
    },
    {
      "cell_type": "code",
      "metadata": {
        "id": "pINP5OgEyuIa",
        "colab_type": "code",
        "colab": {}
      },
      "source": [
        "seq2seq_model.save('/content/drive/My Drive/epochs_120.h5')"
      ],
      "execution_count": 0,
      "outputs": []
    },
    {
      "cell_type": "code",
      "metadata": {
        "id": "4fTbyFzQ3VHp",
        "colab_type": "code",
        "colab": {}
      },
      "source": [
        "\n",
        "total_hist['acc'] = np.concatenate((total_hist['acc'],history.history['acc']))\n",
        "total_hist['loss'] = np.concatenate((total_hist['loss'],history.history['loss']))\n",
        "with open('/content/drive/My Drive/total_hist_120.pickle', 'wb') as file_pi:\n",
        "  pickle.dump(total_hist, file_pi)"
      ],
      "execution_count": 0,
      "outputs": []
    },
    {
      "cell_type": "code",
      "metadata": {
        "id": "85vQgd5c78TS",
        "colab_type": "code",
        "colab": {}
      },
      "source": [
        "plot_data()"
      ],
      "execution_count": 0,
      "outputs": []
    },
    {
      "cell_type": "code",
      "metadata": {
        "id": "Vx74Y0P77_1r",
        "colab_type": "code",
        "colab": {
          "base_uri": "https://localhost:8080/",
          "height": 689
        },
        "outputId": "571b4941-14ad-4832-ff15-80f36deff265"
      },
      "source": [
        "history = seq2seq_model.fit([encoding_data, decoding_data], \n",
        "                     decoding_labels, \n",
        "                     epochs=EPOCHS, \n",
        "                    batch_size=BATCH_SIZE)"
      ],
      "execution_count": 66,
      "outputs": [
        {
          "output_type": "stream",
          "text": [
            "Epoch 1/20\n",
            "53331/53331 [==============================] - 120s 2ms/step - loss: 1.0550 - acc: 0.7655\n",
            "Epoch 2/20\n",
            "53331/53331 [==============================] - 121s 2ms/step - loss: 1.0362 - acc: 0.7699\n",
            "Epoch 3/20\n",
            "53331/53331 [==============================] - 122s 2ms/step - loss: 1.0298 - acc: 0.7710\n",
            "Epoch 4/20\n",
            "53331/53331 [==============================] - 122s 2ms/step - loss: 1.0184 - acc: 0.7734\n",
            "Epoch 5/20\n",
            "53331/53331 [==============================] - 122s 2ms/step - loss: 1.0076 - acc: 0.7758\n",
            "Epoch 6/20\n",
            "53331/53331 [==============================] - 121s 2ms/step - loss: 0.9978 - acc: 0.7781\n",
            "Epoch 7/20\n",
            "53331/53331 [==============================] - 121s 2ms/step - loss: 0.9927 - acc: 0.7789\n",
            "Epoch 8/20\n",
            "53331/53331 [==============================] - 121s 2ms/step - loss: 0.9839 - acc: 0.7806\n",
            "Epoch 9/20\n",
            "53331/53331 [==============================] - 122s 2ms/step - loss: 0.9716 - acc: 0.7835\n",
            "Epoch 10/20\n",
            "53331/53331 [==============================] - 121s 2ms/step - loss: 0.9654 - acc: 0.7847\n",
            "Epoch 11/20\n",
            "53331/53331 [==============================] - 121s 2ms/step - loss: 0.9545 - acc: 0.7872\n",
            "Epoch 12/20\n",
            "53331/53331 [==============================] - 121s 2ms/step - loss: 0.9472 - acc: 0.7885\n",
            "Epoch 13/20\n",
            "53331/53331 [==============================] - 121s 2ms/step - loss: 0.9396 - acc: 0.7901\n",
            "Epoch 14/20\n",
            "53331/53331 [==============================] - 121s 2ms/step - loss: 0.9302 - acc: 0.7919\n",
            "Epoch 15/20\n",
            "53331/53331 [==============================] - 121s 2ms/step - loss: 0.9267 - acc: 0.7927\n",
            "Epoch 16/20\n",
            "53331/53331 [==============================] - 121s 2ms/step - loss: 0.9206 - acc: 0.7935\n",
            "Epoch 17/20\n",
            "53331/53331 [==============================] - 122s 2ms/step - loss: 0.9156 - acc: 0.7943\n",
            "Epoch 18/20\n",
            "53331/53331 [==============================] - 122s 2ms/step - loss: 0.9130 - acc: 0.7946\n",
            "Epoch 19/20\n",
            "53331/53331 [==============================] - 121s 2ms/step - loss: 0.8981 - acc: 0.7984\n",
            "Epoch 20/20\n",
            "53331/53331 [==============================] - 121s 2ms/step - loss: 0.8834 - acc: 0.8025\n"
          ],
          "name": "stdout"
        }
      ]
    },
    {
      "cell_type": "code",
      "metadata": {
        "id": "o7llBVuM8HYy",
        "colab_type": "code",
        "colab": {}
      },
      "source": [
        "seq2seq_model.save('/content/drive/My Drive/epochs_140.h5')"
      ],
      "execution_count": 0,
      "outputs": []
    },
    {
      "cell_type": "code",
      "metadata": {
        "id": "ESSYW7Al_KYQ",
        "colab_type": "code",
        "colab": {}
      },
      "source": [
        "total_hist['acc'] = np.concatenate((total_hist['acc'],history.history['acc']))\n",
        "total_hist['loss'] = np.concatenate((total_hist['loss'],history.history['loss']))\n",
        "with open('/content/drive/My Drive/total_hist_140.pickle', 'wb') as file_pi:\n",
        "  pickle.dump(total_hist, file_pi)"
      ],
      "execution_count": 0,
      "outputs": []
    },
    {
      "cell_type": "code",
      "metadata": {
        "id": "Rp4plvL1G4CF",
        "colab_type": "code",
        "colab": {}
      },
      "source": [
        "test_data()"
      ],
      "execution_count": 0,
      "outputs": []
    },
    {
      "cell_type": "code",
      "metadata": {
        "id": "-bzgLvsLG42y",
        "colab_type": "code",
        "colab": {
          "base_uri": "https://localhost:8080/",
          "height": 689
        },
        "outputId": "d6d89410-ec61-4765-8aba-0d264c6c043d"
      },
      "source": [
        "history = seq2seq_model.fit([encoding_data, decoding_data], \n",
        "                     decoding_labels, \n",
        "                     epochs=EPOCHS, \n",
        "                    batch_size=BATCH_SIZE)"
      ],
      "execution_count": 70,
      "outputs": [
        {
          "output_type": "stream",
          "text": [
            "Epoch 1/20\n",
            "53331/53331 [==============================] - 120s 2ms/step - loss: 0.8756 - acc: 0.8039\n",
            "Epoch 2/20\n",
            "53331/53331 [==============================] - 120s 2ms/step - loss: 0.8688 - acc: 0.8053\n",
            "Epoch 3/20\n",
            "53331/53331 [==============================] - 119s 2ms/step - loss: 0.8642 - acc: 0.8062\n",
            "Epoch 4/20\n",
            "53331/53331 [==============================] - 120s 2ms/step - loss: 0.8567 - acc: 0.8080\n",
            "Epoch 5/20\n",
            "53331/53331 [==============================] - 120s 2ms/step - loss: 0.8503 - acc: 0.8094\n",
            "Epoch 6/20\n",
            "53331/53331 [==============================] - 120s 2ms/step - loss: 0.8476 - acc: 0.8095\n",
            "Epoch 7/20\n",
            "53331/53331 [==============================] - 119s 2ms/step - loss: 0.8427 - acc: 0.8103\n",
            "Epoch 8/20\n",
            "53331/53331 [==============================] - 119s 2ms/step - loss: 0.8321 - acc: 0.8130\n",
            "Epoch 9/20\n",
            "53331/53331 [==============================] - 119s 2ms/step - loss: 0.8347 - acc: 0.8119\n",
            "Epoch 10/20\n",
            "53331/53331 [==============================] - 119s 2ms/step - loss: 0.8465 - acc: 0.8076\n",
            "Epoch 11/20\n",
            "53331/53331 [==============================] - 118s 2ms/step - loss: 0.8279 - acc: 0.8124\n",
            "Epoch 12/20\n",
            "53331/53331 [==============================] - 118s 2ms/step - loss: 0.8112 - acc: 0.8173\n",
            "Epoch 13/20\n",
            "53331/53331 [==============================] - 118s 2ms/step - loss: 0.7972 - acc: 0.8214\n",
            "Epoch 14/20\n",
            "53331/53331 [==============================] - 118s 2ms/step - loss: 0.7939 - acc: 0.8215\n",
            "Epoch 15/20\n",
            "53331/53331 [==============================] - 118s 2ms/step - loss: 0.7856 - acc: 0.8236\n",
            "Epoch 16/20\n",
            "53331/53331 [==============================] - 118s 2ms/step - loss: 0.7879 - acc: 0.8225\n",
            "Epoch 17/20\n",
            "53331/53331 [==============================] - 118s 2ms/step - loss: 0.7777 - acc: 0.8250\n",
            "Epoch 18/20\n",
            "53331/53331 [==============================] - 118s 2ms/step - loss: 0.7696 - acc: 0.8270\n",
            "Epoch 19/20\n",
            "53331/53331 [==============================] - 118s 2ms/step - loss: 0.7672 - acc: 0.8268\n",
            "Epoch 20/20\n",
            "53331/53331 [==============================] - 118s 2ms/step - loss: 0.7616 - acc: 0.8281\n"
          ],
          "name": "stdout"
        }
      ]
    },
    {
      "cell_type": "code",
      "metadata": {
        "id": "_e-sWzvJHA12",
        "colab_type": "code",
        "colab": {}
      },
      "source": [
        "seq2seq_model.save('/content/drive/My Drive/epochs_160.h5')"
      ],
      "execution_count": 0,
      "outputs": []
    },
    {
      "cell_type": "code",
      "metadata": {
        "id": "9JaIhu0FOrUt",
        "colab_type": "code",
        "colab": {}
      },
      "source": [
        "total_hist['acc'] = np.concatenate((total_hist['acc'],history.history['acc']))\n",
        "total_hist['loss'] = np.concatenate((total_hist['loss'],history.history['loss']))\n",
        "with open('/content/drive/My Drive/total_hist_160.pickle', 'wb') as file_pi:\n",
        "  pickle.dump(total_hist, file_pi)"
      ],
      "execution_count": 0,
      "outputs": []
    },
    {
      "cell_type": "code",
      "metadata": {
        "id": "LoKNjepiOyUM",
        "colab_type": "code",
        "colab": {
          "base_uri": "https://localhost:8080/",
          "height": 353
        },
        "outputId": "c20d5630-de1e-4dfb-93bb-7bcf654f7d84"
      },
      "source": [
        "test_data()"
      ],
      "execution_count": 80,
      "outputs": [
        {
          "output_type": "stream",
          "text": [
            "\n",
            "whats up bro\n",
            "\n",
            "i and and and \n",
            "\n",
            "hi\n",
            "\n",
            "i in a a to \n",
            "\n",
            "how are you\n",
            "\n",
            "i and in and and and and and is \n",
            "\n",
            "What did you have for dinner\n",
            "\n",
            "a the \n",
            "\n",
            "What company do you work for\n",
            "\n",
            "it and the \n"
          ],
          "name": "stdout"
        }
      ]
    },
    {
      "cell_type": "code",
      "metadata": {
        "id": "t-H4fYEBRR2Z",
        "colab_type": "code",
        "colab": {
          "base_uri": "https://localhost:8080/",
          "height": 689
        },
        "outputId": "e636ed4e-ae6d-4e7d-b094-0056bf2d9a43"
      },
      "source": [
        "history = seq2seq_model.fit([encoding_data, decoding_data], \n",
        "                     decoding_labels, \n",
        "                     epochs=EPOCHS, \n",
        "                    batch_size=BATCH_SIZE)"
      ],
      "execution_count": 81,
      "outputs": [
        {
          "output_type": "stream",
          "text": [
            "Epoch 1/20\n",
            "53331/53331 [==============================] - 118s 2ms/step - loss: 0.7548 - acc: 0.8299\n",
            "Epoch 2/20\n",
            "53331/53331 [==============================] - 118s 2ms/step - loss: 0.7474 - acc: 0.8317\n",
            "Epoch 3/20\n",
            "53331/53331 [==============================] - 119s 2ms/step - loss: 0.7441 - acc: 0.8324\n",
            "Epoch 4/20\n",
            "53331/53331 [==============================] - 119s 2ms/step - loss: 0.7457 - acc: 0.8312\n",
            "Epoch 5/20\n",
            "53331/53331 [==============================] - 118s 2ms/step - loss: 0.7394 - acc: 0.8328\n",
            "Epoch 6/20\n",
            "53331/53331 [==============================] - 118s 2ms/step - loss: 0.7318 - acc: 0.8347\n",
            "Epoch 7/20\n",
            "53331/53331 [==============================] - 119s 2ms/step - loss: 0.7252 - acc: 0.8362\n",
            "Epoch 8/20\n",
            "53331/53331 [==============================] - 119s 2ms/step - loss: 0.7188 - acc: 0.8376\n",
            "Epoch 9/20\n",
            "53331/53331 [==============================] - 119s 2ms/step - loss: 0.7201 - acc: 0.8368\n",
            "Epoch 10/20\n",
            "53331/53331 [==============================] - 118s 2ms/step - loss: 0.7088 - acc: 0.8401\n",
            "Epoch 11/20\n",
            "53331/53331 [==============================] - 117s 2ms/step - loss: 0.7024 - acc: 0.8416\n",
            "Epoch 12/20\n",
            "53331/53331 [==============================] - 116s 2ms/step - loss: 0.7065 - acc: 0.8396\n",
            "Epoch 13/20\n",
            "53331/53331 [==============================] - 117s 2ms/step - loss: 0.7034 - acc: 0.8403\n",
            "Epoch 14/20\n",
            "53331/53331 [==============================] - 118s 2ms/step - loss: 0.7017 - acc: 0.8401\n",
            "Epoch 15/20\n",
            "53331/53331 [==============================] - 118s 2ms/step - loss: 0.6918 - acc: 0.8430\n",
            "Epoch 16/20\n",
            "53331/53331 [==============================] - 118s 2ms/step - loss: 0.6829 - acc: 0.8454\n",
            "Epoch 17/20\n",
            "53331/53331 [==============================] - 118s 2ms/step - loss: 0.6782 - acc: 0.8466\n",
            "Epoch 18/20\n",
            "53331/53331 [==============================] - 118s 2ms/step - loss: 0.6718 - acc: 0.8481\n",
            "Epoch 19/20\n",
            "53331/53331 [==============================] - 118s 2ms/step - loss: 0.6706 - acc: 0.8480\n",
            "Epoch 20/20\n",
            "53331/53331 [==============================] - 118s 2ms/step - loss: 0.6750 - acc: 0.8462\n"
          ],
          "name": "stdout"
        }
      ]
    },
    {
      "cell_type": "code",
      "metadata": {
        "id": "Q4gk-xwNTzBI",
        "colab_type": "code",
        "colab": {}
      },
      "source": [
        "seq2seq_model.save('/content/drive/My Drive/epochs_180.h5')"
      ],
      "execution_count": 0,
      "outputs": []
    },
    {
      "cell_type": "code",
      "metadata": {
        "id": "1BHbIZUhdbQ-",
        "colab_type": "code",
        "colab": {}
      },
      "source": [
        "total_hist['acc'] = np.concatenate((total_hist['acc'],history.history['acc']))\n",
        "total_hist['loss'] = np.concatenate((total_hist['loss'],history.history['loss']))\n",
        "with open('/content/drive/My Drive/total_hist_180.pickle', 'wb') as file_pi:\n",
        "  pickle.dump(total_hist, file_pi)"
      ],
      "execution_count": 0,
      "outputs": []
    },
    {
      "cell_type": "code",
      "metadata": {
        "id": "cvPk5cF-dE0i",
        "colab_type": "code",
        "colab": {
          "base_uri": "https://localhost:8080/",
          "height": 689
        },
        "outputId": "8dfc433c-1648-4ed6-a26d-75cd7d6ebce6"
      },
      "source": [
        "history = seq2seq_model.fit([encoding_data, decoding_data], \n",
        "                     decoding_labels, \n",
        "                     epochs=EPOCHS, \n",
        "                    batch_size=BATCH_SIZE)"
      ],
      "execution_count": 84,
      "outputs": [
        {
          "output_type": "stream",
          "text": [
            "Epoch 1/20\n",
            "53331/53331 [==============================] - 120s 2ms/step - loss: 0.6656 - acc: 0.8488\n",
            "Epoch 2/20\n",
            "53331/53331 [==============================] - 120s 2ms/step - loss: 0.6607 - acc: 0.8498\n",
            "Epoch 3/20\n",
            "53331/53331 [==============================] - 119s 2ms/step - loss: 0.6584 - acc: 0.8502\n",
            "Epoch 4/20\n",
            "53331/53331 [==============================] - 119s 2ms/step - loss: 0.6550 - acc: 0.8508\n",
            "Epoch 5/20\n",
            "53331/53331 [==============================] - 119s 2ms/step - loss: 0.6464 - acc: 0.8530\n",
            "Epoch 6/20\n",
            "53331/53331 [==============================] - 119s 2ms/step - loss: 0.6476 - acc: 0.8528\n",
            "Epoch 7/20\n",
            "53331/53331 [==============================] - 119s 2ms/step - loss: 0.6374 - acc: 0.8552\n",
            "Epoch 8/20\n",
            "53331/53331 [==============================] - 119s 2ms/step - loss: 0.6295 - acc: 0.8577\n",
            "Epoch 9/20\n",
            "53331/53331 [==============================] - 119s 2ms/step - loss: 0.6265 - acc: 0.8580\n",
            "Epoch 10/20\n",
            "53331/53331 [==============================] - 118s 2ms/step - loss: 0.6197 - acc: 0.8599\n",
            "Epoch 11/20\n",
            "53331/53331 [==============================] - 118s 2ms/step - loss: 0.6164 - acc: 0.8603\n",
            "Epoch 12/20\n",
            "53331/53331 [==============================] - 118s 2ms/step - loss: 0.6090 - acc: 0.8627\n",
            "Epoch 13/20\n",
            "53331/53331 [==============================] - 119s 2ms/step - loss: 0.6084 - acc: 0.8623\n",
            "Epoch 14/20\n",
            "53331/53331 [==============================] - 119s 2ms/step - loss: 0.6050 - acc: 0.8629\n",
            "Epoch 15/20\n",
            "53331/53331 [==============================] - 119s 2ms/step - loss: 0.6141 - acc: 0.8595\n",
            "Epoch 16/20\n",
            "53331/53331 [==============================] - 119s 2ms/step - loss: 0.6159 - acc: 0.8585\n",
            "Epoch 17/20\n",
            "53331/53331 [==============================] - 119s 2ms/step - loss: 0.6188 - acc: 0.8574\n",
            "Epoch 18/20\n",
            "53331/53331 [==============================] - 120s 2ms/step - loss: 0.6089 - acc: 0.8600\n",
            "Epoch 19/20\n",
            "53331/53331 [==============================] - 119s 2ms/step - loss: 0.5948 - acc: 0.8647\n",
            "Epoch 20/20\n",
            "53331/53331 [==============================] - 119s 2ms/step - loss: 0.5870 - acc: 0.8668\n"
          ],
          "name": "stdout"
        }
      ]
    },
    {
      "cell_type": "code",
      "metadata": {
        "id": "qsM9VMuVdd0t",
        "colab_type": "code",
        "colab": {}
      },
      "source": [
        "seq2seq_model.save('/content/drive/My Drive/epochs_200.h5')"
      ],
      "execution_count": 0,
      "outputs": []
    },
    {
      "cell_type": "code",
      "metadata": {
        "id": "KoT0FsX-d0zC",
        "colab_type": "code",
        "colab": {}
      },
      "source": [
        "total_hist['acc'] = np.concatenate((total_hist['acc'],history.history['acc']))\n",
        "total_hist['loss'] = np.concatenate((total_hist['loss'],history.history['loss']))\n",
        "with open('/content/drive/My Drive/total_hist_200.pickle', 'wb') as file_pi:\n",
        "  pickle.dump(total_hist, file_pi)"
      ],
      "execution_count": 0,
      "outputs": []
    },
    {
      "cell_type": "code",
      "metadata": {
        "id": "P66zuINamry7",
        "colab_type": "code",
        "colab": {
          "base_uri": "https://localhost:8080/",
          "height": 573
        },
        "outputId": "6dc060b1-7f63-4ff3-8c47-dfeddfff58ce"
      },
      "source": [
        "plot_data()"
      ],
      "execution_count": 90,
      "outputs": [
        {
          "output_type": "display_data",
          "data": {
            "image/png": "[encoded data removed]",
            "text/plain": [
              "<Figure size 432x288 with 1 Axes>"
            ]
          },
          "metadata": {
            "tags": []
          }
        },
        {
          "output_type": "display_data",
          "data": {
            "image/png": "[encoded data removed]",
            "text/plain": [
              "<Figure size 432x288 with 1 Axes>"
            ]
          },
          "metadata": {
            "tags": []
          }
        }
      ]
    },
    {
      "cell_type": "code",
      "metadata": {
        "id": "uUt3TodMmtB0",
        "colab_type": "code",
        "colab": {
          "base_uri": "https://localhost:8080/",
          "height": 353
        },
        "outputId": "1471d253-0557-4f1f-fc4f-e78c6de2d603"
      },
      "source": [
        "test_data()"
      ],
      "execution_count": 91,
      "outputs": [
        {
          "output_type": "stream",
          "text": [
            "\n",
            "whats up bro\n",
            "\n",
            "i a a \n",
            "\n",
            "hi\n",
            "\n",
            "i in a a to \n",
            "\n",
            "how are you\n",
            "\n",
            "and in and is and and in \n",
            "\n",
            "What did you have for dinner\n",
            "\n",
            "a in \n",
            "\n",
            "What company do you work for\n",
            "\n",
            "the and and \n"
          ],
          "name": "stdout"
        }
      ]
    },
    {
      "cell_type": "code",
      "metadata": {
        "id": "omwsbChknEUT",
        "colab_type": "code",
        "colab": {
          "base_uri": "https://localhost:8080/",
          "height": 689
        },
        "outputId": "6817b1c0-a826-4107-b0b5-a7d35333e5ec"
      },
      "source": [
        "history = seq2seq_model.fit([encoding_data, decoding_data], \n",
        "                     decoding_labels, \n",
        "                     epochs=EPOCHS, \n",
        "                    batch_size=BATCH_SIZE)"
      ],
      "execution_count": 92,
      "outputs": [
        {
          "output_type": "stream",
          "text": [
            "Epoch 1/20\n",
            "53331/53331 [==============================] - 119s 2ms/step - loss: 0.5830 - acc: 0.8676\n",
            "Epoch 2/20\n",
            "53331/53331 [==============================] - 120s 2ms/step - loss: 0.5818 - acc: 0.8677\n",
            "Epoch 3/20\n",
            "53331/53331 [==============================] - 121s 2ms/step - loss: 0.5877 - acc: 0.8655\n",
            "Epoch 4/20\n",
            "53331/53331 [==============================] - 120s 2ms/step - loss: 0.5770 - acc: 0.8685\n",
            "Epoch 5/20\n",
            "53331/53331 [==============================] - 120s 2ms/step - loss: 0.5754 - acc: 0.8687\n",
            "Epoch 6/20\n",
            "53331/53331 [==============================] - 120s 2ms/step - loss: 0.5671 - acc: 0.8710\n",
            "Epoch 7/20\n",
            "53331/53331 [==============================] - 120s 2ms/step - loss: 0.5673 - acc: 0.8709\n",
            "Epoch 8/20\n",
            "53331/53331 [==============================] - 119s 2ms/step - loss: 0.5643 - acc: 0.8711\n",
            "Epoch 9/20\n",
            "53331/53331 [==============================] - 120s 2ms/step - loss: 0.5611 - acc: 0.8721\n",
            "Epoch 10/20\n",
            "53331/53331 [==============================] - 120s 2ms/step - loss: 0.5562 - acc: 0.8729\n",
            "Epoch 11/20\n",
            "53331/53331 [==============================] - 120s 2ms/step - loss: 0.5548 - acc: 0.8735\n",
            "Epoch 12/20\n",
            "53331/53331 [==============================] - 119s 2ms/step - loss: 0.5582 - acc: 0.8719\n",
            "Epoch 13/20\n",
            "53331/53331 [==============================] - 119s 2ms/step - loss: 0.5528 - acc: 0.8737\n",
            "Epoch 14/20\n",
            "53331/53331 [==============================] - 119s 2ms/step - loss: 0.5445 - acc: 0.8758\n",
            "Epoch 15/20\n",
            "53331/53331 [==============================] - 120s 2ms/step - loss: 0.5454 - acc: 0.8750\n",
            "Epoch 16/20\n",
            "53331/53331 [==============================] - 120s 2ms/step - loss: 0.5348 - acc: 0.8784\n",
            "Epoch 17/20\n",
            "53331/53331 [==============================] - 119s 2ms/step - loss: 0.5244 - acc: 0.8816\n",
            "Epoch 18/20\n",
            "53331/53331 [==============================] - 119s 2ms/step - loss: 0.5251 - acc: 0.8811\n",
            "Epoch 19/20\n",
            "53331/53331 [==============================] - 120s 2ms/step - loss: 0.5318 - acc: 0.8783\n",
            "Epoch 20/20\n",
            "53331/53331 [==============================] - 120s 2ms/step - loss: 0.5349 - acc: 0.8772\n"
          ],
          "name": "stdout"
        }
      ]
    },
    {
      "cell_type": "code",
      "metadata": {
        "id": "SIsNV_OnyUA4",
        "colab_type": "code",
        "colab": {
          "base_uri": "https://localhost:8080/",
          "height": 353
        },
        "outputId": "560afdb9-03e4-4fd6-b759-d5bc34068bee"
      },
      "source": [
        "test_data()"
      ],
      "execution_count": 108,
      "outputs": [
        {
          "output_type": "stream",
          "text": [
            "\n",
            "whats up\n",
            "\n",
            "i \n",
            "\n",
            "hi\n",
            "\n",
            "i in a a to \n",
            "\n",
            "how are you\n",
            "\n",
            "is and and and is and and and and is \n",
            "\n",
            "Thank You\n",
            "\n",
            "i in \n",
            "\n",
            "Sorry\n",
            "\n",
            "you in \n"
          ],
          "name": "stdout"
        }
      ]
    },
    {
      "cell_type": "code",
      "metadata": {
        "id": "yRh89IPj0HOG",
        "colab_type": "code",
        "colab": {}
      },
      "source": [
        "seq2seq_model.save('/content/drive/My Drive/epochs_220.h5')"
      ],
      "execution_count": 0,
      "outputs": []
    },
    {
      "cell_type": "code",
      "metadata": {
        "id": "c3U-HZR-1rTJ",
        "colab_type": "code",
        "colab": {}
      },
      "source": [
        ""
      ],
      "execution_count": 0,
      "outputs": []
    }
  ]
}