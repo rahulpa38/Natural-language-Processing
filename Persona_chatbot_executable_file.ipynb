{
 "cells": [
  {
   "cell_type": "code",
   "execution_count": 1,
   "metadata": {
    "colab": {
     "base_uri": "https://localhost:8080/",
     "height": 62
    },
    "colab_type": "code",
    "id": "OB8iwbGhcGX9",
    "outputId": "cef88851-8885-4532-809a-3f85a8bc8884"
   },
   "outputs": [],
   "source": [
    "import tensorflow"
   ]
  },
  {
   "cell_type": "code",
   "execution_count": 10,
   "metadata": {},
   "outputs": [
    {
     "name": "stdout",
     "output_type": "stream",
     "text": [
      "Collecting keras\n",
      "  Downloading https://files.pythonhosted.org/packages/ad/fd/6bfe87920d7f4fd475acd28500a42482b6b84479832bdc0fe9e589a60ceb/Keras-2.3.1-py2.py3-none-any.whl (377kB)\n",
      "Requirement already satisfied: keras-applications>=1.0.6 in c:\\users\\patel\\anaconda3\\lib\\site-packages (from keras) (1.0.8)\n",
      "Requirement already satisfied: six>=1.9.0 in c:\\users\\patel\\anaconda3\\lib\\site-packages (from keras) (1.12.0)\n",
      "Requirement already satisfied: keras-preprocessing>=1.0.5 in c:\\users\\patel\\anaconda3\\lib\\site-packages (from keras) (1.1.0)\n",
      "Requirement already satisfied: scipy>=0.14 in c:\\users\\patel\\anaconda3\\lib\\site-packages (from keras) (1.3.1)\n",
      "Requirement already satisfied: pyyaml in c:\\users\\patel\\anaconda3\\lib\\site-packages (from keras) (5.1.2)\n",
      "Requirement already satisfied: numpy>=1.9.1 in c:\\users\\patel\\anaconda3\\lib\\site-packages (from keras) (1.16.4)\n",
      "Requirement already satisfied: h5py in c:\\users\\patel\\anaconda3\\lib\\site-packages (from keras) (2.8.0)\n",
      "Installing collected packages: keras\n",
      "Successfully installed keras-2.3.1\n"
     ]
    }
   ],
   "source": [
    "!pip install keras"
   ]
  },
  {
   "cell_type": "code",
   "execution_count": 11,
   "metadata": {
    "colab": {
     "base_uri": "https://localhost:8080/",
     "height": 79
    },
    "colab_type": "code",
    "id": "DHP4CedTcKDD",
    "outputId": "1279d8e5-3289-4ad5-eee1-961159f9e3ce"
   },
   "outputs": [
    {
     "name": "stderr",
     "output_type": "stream",
     "text": [
      "Using TensorFlow backend.\n"
     ]
    }
   ],
   "source": [
    "from keras.preprocessing.text import Tokenizer\n",
    "from keras.preprocessing.sequence import pad_sequences\n",
    "import numpy as np"
   ]
  },
  {
   "cell_type": "code",
   "execution_count": 0,
   "metadata": {
    "colab": {},
    "colab_type": "code",
    "id": "dcyM5pTmcNGP"
   },
   "outputs": [],
   "source": [
    "# import requests\n",
    "# from random import randint\n",
    "# from bs4 import BeautifulSoup"
   ]
  },
  {
   "cell_type": "code",
   "execution_count": 0,
   "metadata": {
    "colab": {},
    "colab_type": "code",
    "id": "EYIVZ9hRcP58"
   },
   "outputs": [],
   "source": [
    "# result = requests.get('https://bigbangtrans.wordpress.com/series-1-episode-1-pilot-episode/')"
   ]
  },
  {
   "cell_type": "code",
   "execution_count": 3,
   "metadata": {
    "colab": {
     "base_uri": "https://localhost:8080/",
     "height": 121
    },
    "colab_type": "code",
    "id": "ulLgmwtqcTEH",
    "outputId": "d9daacbc-f492-4bf4-8f7f-eb83e376f1df"
   },
   "outputs": [
    {
     "name": "stdout",
     "output_type": "stream",
     "text": [
      "Go to this URL in a browser: https://accounts.google.com/o/oauth2/auth?client_id=947318989803-6bn6qk8qdgf4n4g3pfee6491hc0brc4i.apps.googleusercontent.com&redirect_uri=urn%3aietf%3awg%3aoauth%3a2.0%3aoob&response_type=code&scope=email%20https%3a%2f%2fwww.googleapis.com%2fauth%2fdocs.test%20https%3a%2f%2fwww.googleapis.com%2fauth%2fdrive%20https%3a%2f%2fwww.googleapis.com%2fauth%2fdrive.photos.readonly%20https%3a%2f%2fwww.googleapis.com%2fauth%2fpeopleapi.readonly\n",
      "\n",
      "Enter your authorization code:\n",
      "··········\n",
      "Mounted at /content/drive\n"
     ]
    }
   ],
   "source": [
    "# from google.colab import drive\n",
    "# drive.mount('/content/drive')"
   ]
  },
  {
   "cell_type": "code",
   "execution_count": null,
   "metadata": {
    "colab": {},
    "colab_type": "code",
    "id": "osF2Hz2Gfo3f"
   },
   "outputs": [],
   "source": [
    "import pickle"
   ]
  },
  {
   "cell_type": "markdown",
   "metadata": {
    "colab_type": "text",
    "id": "kHDE7A-CCiWW"
   },
   "source": [
    "# Web Scraping Big Bang Theory Data"
   ]
  },
  {
   "cell_type": "code",
   "execution_count": 0,
   "metadata": {
    "colab": {},
    "colab_type": "code",
    "id": "fNcHCjn5cUk-"
   },
   "outputs": [],
   "source": [
    "# src = result.content"
   ]
  },
  {
   "cell_type": "code",
   "execution_count": 0,
   "metadata": {
    "colab": {},
    "colab_type": "code",
    "id": "zMTtxVGcc-5m"
   },
   "outputs": [],
   "source": [
    "# soup = BeautifulSoup(src,  \"html.parser\")"
   ]
  },
  {
   "cell_type": "code",
   "execution_count": 0,
   "metadata": {
    "colab": {},
    "colab_type": "code",
    "id": "NCluAjd6dAmc"
   },
   "outputs": [],
   "source": [
    "## Take all the links from that current page so that we can scrape all the links in the loop in the next cell\n",
    "# div_web = soup.find(\"div\", {\"id\": \"pages-2\"})\n",
    "# all_links = []\n",
    "\n",
    "# ## Current page append link\n",
    "# all_links.append('https://bigbangtrans.wordpress.com/series-1-episode-1-pilot-episode/')\n",
    "\n",
    "# ## Find the links on that page given the above div part\n",
    "# links = div_web.findAll('a')\n",
    "\n",
    "# ## Loop on all the links and save them in an array\n",
    "# for a in links:\n",
    "#     if 'About' not in a.text:\n",
    "#       all_links.append(a['href'])"
   ]
  },
  {
   "cell_type": "code",
   "execution_count": null,
   "metadata": {
    "colab": {},
    "colab_type": "code",
    "id": "SBSW6HHXdC9O"
   },
   "outputs": [],
   "source": [
    "import re"
   ]
  },
  {
   "cell_type": "code",
   "execution_count": 0,
   "metadata": {
    "colab": {},
    "colab_type": "code",
    "id": "ecUIb9AMdEza"
   },
   "outputs": [],
   "source": [
    "# def preprocess_text(text):\n",
    "    \n",
    "#     text = text.lower()\n",
    "#     text = re.sub(r\"i'm\", \"i am\", text)\n",
    "#     text = re.sub(r\"he's\", \"he is\", text)\n",
    "#     text = re.sub(r\"she's\", \"she is\", text)\n",
    "#     text = re.sub(r\"it's\", \"it is\", text)\n",
    "#     text = re.sub(r\"that's\", \"that is\", text)\n",
    "#     text = re.sub(r\"what's\", \"that is\", text)\n",
    "#     text = re.sub(r\"where's\", \"where is\", text)\n",
    "#     text = re.sub(r\"how's\", \"how is\", text)\n",
    "#     text = re.sub(r\"\\'ll\", \" will\", text)\n",
    "#     text = re.sub(r\"\\'ve\", \" have\", text)\n",
    "#     text = re.sub(r\"\\'re\", \" are\", text)\n",
    "#     text = re.sub(r\"\\'d\", \" would\", text)\n",
    "#     text = re.sub(r\"\\'re\", \" are\", text)\n",
    "#     text = re.sub(r\"won't\", \"will not\", text)\n",
    "#     text = re.sub(r\"can't\", \"cannot\", text)\n",
    "#     text = re.sub(r\"n't\", \" not\", text)\n",
    "#     text = re.sub(r\"n'\", \"ng\", text)\n",
    "#     text = re.sub(r\"'bout\", \"about\", text)\n",
    "#     text = re.sub(r\"'til\", \"until\", text)\n",
    "#     text = re.sub(r\"[-()\\\"#/@;:<>{}`+=~|.!?,]\", \"\", text)\n",
    "    \n",
    "#     return text\n",
    "\n",
    "\n",
    "# ## In variable text - speaker and then their conversations will be stored\n",
    "# speaker_text= []\n",
    "# ## To calculate conversations lost due to web scraping \n",
    "# conversation_lost = 0\n",
    "\n",
    "# ## loop on all the links from where we have to scrap data\n",
    "# for link in all_links:\n",
    "  \n",
    "# ## request on that link \n",
    "#     result = requests.get(link)\n",
    "\n",
    "# ## got the content\n",
    "#     src = result.content\n",
    "# ## Create Beautiful soup object  \n",
    "#     soup = BeautifulSoup(src,'html.parser')\n",
    "# ## Find div element with the given class\n",
    "#     data = soup.find(\"div\",class_ = \"entrytext\")\n",
    "  \n",
    "# ## FInd paragraph children element\n",
    "#     paragraph_text = data.findChildren(\"p\")\n",
    "  \n",
    "# ## final_conversation stores conversations of big bang theory on that particular \n",
    "# #page \n",
    "#     final_conversation = []\n",
    " \n",
    "#   ## loop on all the p elements\n",
    "#     for p in paragraph_text:\n",
    "#       ## Get the conversation based on the given page\n",
    "#         conversation = p.find(\"span\")\n",
    "#         if conversation != None and len(list(conversation.descendants)) == 1:\n",
    "#           final_conversation.append(conversation.contents)\n",
    "#         elif conversation == None:\n",
    "#            final_conversation.append(p.text)\n",
    "#         else:\n",
    "#           conversation_lost += 1\n",
    "    \n",
    "# ## seperate speaker and content based on the conversations  \n",
    "#     for conversation in final_conversation:\n",
    "#       try:\n",
    "#         speaker, content = ''.join(conversation).split(\":\", 1)\n",
    "#       except ValueError:\n",
    "#         continue\n",
    "#       if speaker and content:\n",
    "# ## if speaker and content is not empty then append the conversations in the text list\n",
    "#         speaker_text.append([speaker,preprocess_text(content.strip())])\n",
    "                 "
   ]
  },
  {
   "cell_type": "code",
   "execution_count": 0,
   "metadata": {
    "colab": {},
    "colab_type": "code",
    "id": "t9OEKvz3dHhs"
   },
   "outputs": [],
   "source": [
    "# np.save(\"/content/drive/My Drive/speaker_text.npy\",np.asarray(speaker_text))"
   ]
  },
  {
   "cell_type": "code",
   "execution_count": 0,
   "metadata": {
    "colab": {},
    "colab_type": "code",
    "id": "etfFJoyBdM5M"
   },
   "outputs": [],
   "source": [
    "# Loading speaker and repsonse data\n",
    "# speaker_text = np.load(\"/content/drive/My Drive/speaker_text.npy\")"
   ]
  },
  {
   "cell_type": "markdown",
   "metadata": {
    "colab_type": "text",
    "id": "lqEX_3FCCn8i"
   },
   "source": [
    "# Speaker and Reponse - x_train and y_train"
   ]
  },
  {
   "cell_type": "code",
   "execution_count": 0,
   "metadata": {
    "colab": {},
    "colab_type": "code",
    "id": "9C7_FVxrdRLf"
   },
   "outputs": [],
   "source": [
    "# Creating speaker and response data\n",
    "\n",
    "# x_train = []\n",
    "# y_train = []\n",
    "\n",
    "# ## process the conversation to apply on gensim model\n",
    "# first_row = True\n",
    "# for data in speaker_text:\n",
    "#     if first_row == True:\n",
    "#       old = data[1]\n",
    "#       first_row = False\n",
    "#       continue\n",
    "# ## X_train and y_train are in the form of questions and\n",
    "# ##answers which will be later passed to gensim model\n",
    "#     x_train.append(old)\n",
    "#     y_train.append(data[1])\n",
    "#     old = data[1]\n",
    "    \n",
    "# ## create a corpus now and train the gensim model    \n",
    "# corpus = x_train + y_train"
   ]
  },
  {
   "cell_type": "code",
   "execution_count": 0,
   "metadata": {
    "colab": {},
    "colab_type": "code",
    "id": "FHoUpVt8dT08"
   },
   "outputs": [],
   "source": [
    "# np.save(\"/content/drive/My Drive/x_train.npy\",np.asarray(x_train))\n",
    "# np.save(\"/content/drive/My Drive/y_train.npy\",np.asarray(y_train))"
   ]
  },
  {
   "cell_type": "code",
   "execution_count": 0,
   "metadata": {
    "colab": {},
    "colab_type": "code",
    "id": "3-4zc3e0dV-T"
   },
   "outputs": [],
   "source": [
    "## Loading speaker and response data \n",
    "# x_train = np.load(\"/content/drive/My Drive/x_train.npy\")\n",
    "# y_train = np.load(\"/content/drive/My Drive/y_train.npy\")"
   ]
  },
  {
   "cell_type": "markdown",
   "metadata": {
    "colab_type": "text",
    "id": "3IUNDctYCwTP"
   },
   "source": [
    "# Appending 'bos' and 'eos' for the decoder data"
   ]
  },
  {
   "cell_type": "code",
   "execution_count": 0,
   "metadata": {
    "colab": {},
    "colab_type": "code",
    "id": "QMICo8wTdXLL"
   },
   "outputs": [],
   "source": [
    "# bos = '<bos> '\n",
    "# eos = ' <eos>'"
   ]
  },
  {
   "cell_type": "code",
   "execution_count": 0,
   "metadata": {
    "colab": {},
    "colab_type": "code",
    "id": "ife3jTtjdZd8"
   },
   "outputs": [],
   "source": [
    "# y_train_input = [bos + convs + eos for convs in y_train]"
   ]
  },
  {
   "cell_type": "code",
   "execution_count": 0,
   "metadata": {
    "colab": {},
    "colab_type": "code",
    "id": "61UYkBtUd08q"
   },
   "outputs": [],
   "source": [
    "# x_train = list(x_train)"
   ]
  },
  {
   "cell_type": "code",
   "execution_count": 42,
   "metadata": {
    "colab": {
     "base_uri": "https://localhost:8080/",
     "height": 34
    },
    "colab_type": "code",
    "id": "oaEsVNAreD3D",
    "outputId": "0a3711f5-5bf4-46bb-cc92-3b76d0ba8b02"
   },
   "outputs": [
    {
     "data": {
      "text/plain": [
       "53331"
      ]
     },
     "execution_count": 42,
     "metadata": {
      "tags": []
     },
     "output_type": "execute_result"
    }
   ],
   "source": [
    "# len(x_train)"
   ]
  },
  {
   "cell_type": "code",
   "execution_count": 0,
   "metadata": {
    "colab": {},
    "colab_type": "code",
    "id": "QQI1U7f2dbOx"
   },
   "outputs": [],
   "source": [
    "# corpus is the conversation of speaker and response data with bos and eos\n",
    "# corpus = x_train + y_train_input"
   ]
  },
  {
   "cell_type": "code",
   "execution_count": 41,
   "metadata": {
    "colab": {
     "base_uri": "https://localhost:8080/",
     "height": 34
    },
    "colab_type": "code",
    "id": "2MvC-bSQeBg9",
    "outputId": "6d993e20-e8b7-4c59-d883-371f1b3ba664"
   },
   "outputs": [
    {
     "data": {
      "text/plain": [
       "106662"
      ]
     },
     "execution_count": 41,
     "metadata": {
      "tags": []
     },
     "output_type": "execute_result"
    }
   ],
   "source": [
    "# len(corpus)"
   ]
  },
  {
   "cell_type": "code",
   "execution_count": 0,
   "metadata": {
    "colab": {},
    "colab_type": "code",
    "id": "89YFruqbddML"
   },
   "outputs": [],
   "source": [
    "# Creating a 2d array to fit the corpus in tokenizer\n",
    "# corpus_list = [sent.split() for sent in corpus]"
   ]
  },
  {
   "cell_type": "code",
   "execution_count": 0,
   "metadata": {
    "colab": {},
    "colab_type": "code",
    "id": "UpMnEPQCeOnt"
   },
   "outputs": [],
   "source": [
    "vocab_size = 15000"
   ]
  },
  {
   "cell_type": "markdown",
   "metadata": {
    "colab_type": "text",
    "id": "1wn-qX_KC-cR"
   },
   "source": [
    "# Using Keras tokenizer to fit on corpus to get the word index combination"
   ]
  },
  {
   "cell_type": "code",
   "execution_count": 0,
   "metadata": {
    "colab": {},
    "colab_type": "code",
    "id": "zma_E33meGZK"
   },
   "outputs": [],
   "source": [
    "# Initializing tokenizer with vocab size = 15000\n",
    "# tokenizer = Tokenizer(num_words=vocab_size)"
   ]
  },
  {
   "cell_type": "code",
   "execution_count": 0,
   "metadata": {
    "colab": {},
    "colab_type": "code",
    "id": "yqA5UCl-eRYL"
   },
   "outputs": [],
   "source": [
    "## tokenizer is learning \n",
    "# tokenizer.fit_on_texts(corpus_list)"
   ]
  },
  {
   "cell_type": "code",
   "execution_count": 5,
   "metadata": {
    "colab": {},
    "colab_type": "code",
    "id": "BaPNgaqPeTGN"
   },
   "outputs": [],
   "source": [
    "import pickle"
   ]
  },
  {
   "cell_type": "code",
   "execution_count": 0,
   "metadata": {
    "colab": {},
    "colab_type": "code",
    "id": "NKIT2EDJeUYQ"
   },
   "outputs": [],
   "source": [
    "# with open('/content/drive/My Drive/tokenizer.pickle', 'wb') as handle:\n",
    "#     pickle.dump(tokenizer, handle, protocol=pickle.HIGHEST_PROTOCOL)"
   ]
  },
  {
   "cell_type": "code",
   "execution_count": 15,
   "metadata": {
    "colab": {},
    "colab_type": "code",
    "id": "iSJCq7hFeWc2"
   },
   "outputs": [],
   "source": [
    "with open('tokenizer.pickle', 'rb') as handle:\n",
    "    tokenizer = pickle.load(handle)"
   ]
  },
  {
   "cell_type": "code",
   "execution_count": 0,
   "metadata": {
    "colab": {},
    "colab_type": "code",
    "id": "twKBPHvceaNz"
   },
   "outputs": [],
   "source": [
    "# a dictionary of word to index of 15000 most used words\n",
    "# word_idx = tokenizer.word_index"
   ]
  },
  {
   "cell_type": "code",
   "execution_count": 0,
   "metadata": {
    "colab": {},
    "colab_type": "code",
    "id": "7NkWoloteet3"
   },
   "outputs": [],
   "source": [
    "# Creating a dictionary of word to index and index to word \n",
    "# index_word = {}\n",
    "# word_index = {}\n",
    "# for word, index in word_idx.items():\n",
    "#     if index < 15000:\n",
    "#         index_word[index] = word\n",
    "#         word_index[word] = index"
   ]
  },
  {
   "cell_type": "code",
   "execution_count": 0,
   "metadata": {
    "colab": {},
    "colab_type": "code",
    "id": "kU9xjiwbehm-"
   },
   "outputs": [],
   "source": [
    "# with open('/content/drive/My Drive/index_word.pickle', 'wb') as fp:\n",
    "#     pickle.dump(index_word, fp)\n",
    "# with open('/content/drive/My Drive/word_index.pickle', 'wb') as fp:\n",
    "#     pickle.dump(word_index, fp)"
   ]
  },
  {
   "cell_type": "code",
   "execution_count": 14,
   "metadata": {
    "colab": {},
    "colab_type": "code",
    "id": "u7_vZTyHekju"
   },
   "outputs": [],
   "source": [
    "with open('index_word.pickle', 'rb') as handle:\n",
    "    index_word = pickle.load(handle)\n",
    "with open('word_index.pickle', 'rb') as handle:\n",
    "    word_index = pickle.load(handle)"
   ]
  },
  {
   "cell_type": "code",
   "execution_count": 0,
   "metadata": {
    "colab": {},
    "colab_type": "code",
    "id": "-HKvZ5UQAlx5"
   },
   "outputs": [],
   "source": [
    "# index_word"
   ]
  },
  {
   "cell_type": "markdown",
   "metadata": {
    "colab_type": "text",
    "id": "5FAfcQs5DNWt"
   },
   "source": [
    "# Only taking the first 13 Characters and then appending 'bos 'and 'eos' in decoder input"
   ]
  },
  {
   "cell_type": "code",
   "execution_count": 0,
   "metadata": {
    "colab": {},
    "colab_type": "code",
    "id": "uC2I78q3erRk"
   },
   "outputs": [],
   "source": [
    "# Using only 13 characters then appending index of bos and eos in the \n",
    "# y_train1 = []\n",
    "# for y_row in y_train:\n",
    "#     y_train1.append(' '.join(y_row.split()[:13]))"
   ]
  },
  {
   "cell_type": "code",
   "execution_count": 0,
   "metadata": {
    "colab": {},
    "colab_type": "code",
    "id": "qaNzQR53ezy6"
   },
   "outputs": [],
   "source": [
    "## Appending string bos and eos\n",
    "# y_train1 = [bos + convs + eos for convs in y_train1]"
   ]
  },
  {
   "cell_type": "code",
   "execution_count": 0,
   "metadata": {
    "colab": {},
    "colab_type": "code",
    "id": "RUmtsh0F-85K"
   },
   "outputs": [],
   "source": [
    "# y_train1"
   ]
  },
  {
   "cell_type": "code",
   "execution_count": 0,
   "metadata": {
    "colab": {},
    "colab_type": "code",
    "id": "ME51zLy0e10p"
   },
   "outputs": [],
   "source": [
    "# Replacing word with index \n",
    "# encoding_seq = []\n",
    "# for sentence in x_train:\n",
    "#     encoding_seq.append([word_index[word] for word in sentence.split() if word in word_index])\n",
    "# decoding_seq = []\n",
    "# for sentence in y_train1:\n",
    "#     decoding_seq.append([word_index[word] for word in sentence.split() if word in word_index])            \n",
    "            "
   ]
  },
  {
   "cell_type": "markdown",
   "metadata": {
    "colab_type": "text",
    "id": "2XKaX7foDkzn"
   },
   "source": [
    "# Padding 0's at the end of the string "
   ]
  },
  {
   "cell_type": "code",
   "execution_count": 0,
   "metadata": {
    "colab": {},
    "colab_type": "code",
    "id": "P8RytEpre3JZ"
   },
   "outputs": [],
   "source": [
    "# max_len = 15\n",
    "# def padding_sequences(encoding_seq,decoding_seq):\n",
    "#     encoding_data = pad_sequences(encoding_seq, maxlen = max_len, dtype='int32', padding='post', truncating='post')\n",
    "#     decoding_data = pad_sequences(decoding_seq, maxlen = max_len, dtype='int32', padding='post', truncating='post')\n",
    "#     return encoding_data,decoding_data"
   ]
  },
  {
   "cell_type": "code",
   "execution_count": 0,
   "metadata": {
    "colab": {},
    "colab_type": "code",
    "id": "_J2FaXcWe4t4"
   },
   "outputs": [],
   "source": [
    "# encoding_data,decoding_data = padding_sequences(encoding_seq,decoding_seq)"
   ]
  },
  {
   "cell_type": "code",
   "execution_count": 0,
   "metadata": {
    "colab": {},
    "colab_type": "code",
    "id": "tUWy-R3ee6PF"
   },
   "outputs": [],
   "source": [
    "# with open(\"/content/drive/My Drive/decoding_data.pickle\", \"wb\") as fp: \n",
    "#     pickle.dump(decoding_data, fp)\n",
    "\n",
    "# with open(\"/content/drive/My Drive/encoding_data.pickle\", \"wb\") as fp: \n",
    "#     pickle.dump(encoding_data, fp)"
   ]
  },
  {
   "cell_type": "code",
   "execution_count": 6,
   "metadata": {
    "colab": {},
    "colab_type": "code",
    "id": "EASquHGufCs2"
   },
   "outputs": [],
   "source": [
    "\n",
    "with open(\"encoding_data.pickle\", \"rb\") as fp:\n",
    "    encoding_data = pickle.load(fp)\n",
    "    \n",
    "with open(\"decoding_data.pickle\", \"rb\") as fp:\n",
    "    decoding_data = pickle.load(fp)"
   ]
  },
  {
   "cell_type": "code",
   "execution_count": 7,
   "metadata": {
    "colab": {
     "base_uri": "https://localhost:8080/",
     "height": 134
    },
    "colab_type": "code",
    "id": "SaSd74Wdfz-0",
    "outputId": "d8049c64-d37a-4a43-fa95-3fd7f8a5d125"
   },
   "outputs": [
    {
     "data": {
      "text/plain": [
       "array([[   1,  980,  123, ...,    0,    0,    0],\n",
       "       [   1,  136,   24, ...,    7, 6033,    2],\n",
       "       [   1,  258,   14, ...,    0,    0,    0],\n",
       "       ...,\n",
       "       [   1,    8,    4, ...,   21,   14,    2],\n",
       "       [   1,   17,   41, ...,    0,    0,    0],\n",
       "       [   1,   37,   11, ..., 1551,   12,    2]])"
      ]
     },
     "execution_count": 7,
     "metadata": {},
     "output_type": "execute_result"
    }
   ],
   "source": [
    "decoding_data"
   ]
  },
  {
   "cell_type": "markdown",
   "metadata": {
    "colab_type": "text",
    "id": "zZS7RfPrDqb-"
   },
   "source": [
    "# Getting decoding labels or decoder outputs using One Hot encoding "
   ]
  },
  {
   "cell_type": "code",
   "execution_count": 12,
   "metadata": {
    "colab": {},
    "colab_type": "code",
    "id": "pqLh5eecfH3M"
   },
   "outputs": [],
   "source": [
    "no_of_conves = len(encoding_data)\n",
    "max_len = 15\n",
    "vocab_size = 15000\n",
    "## Get Decoding Labels\n",
    "def get_decoding_labels(decoding_input_data):\n",
    "    decoding_labels = np.zeros((no_of_conves, max_len, vocab_size), dtype= np.float16)\n",
    "    for i, sequences in enumerate(decoding_input_data):\n",
    "        for j, sequence in enumerate(sequences):\n",
    "            if j > 0:\n",
    "                decoding_labels[i][j - 1][sequence] = 1.\n",
    "    return decoding_labels"
   ]
  },
  {
   "cell_type": "code",
   "execution_count": 13,
   "metadata": {
    "colab": {},
    "colab_type": "code",
    "id": "t9cYQ75hfJXc"
   },
   "outputs": [
    {
     "ename": "MemoryError",
     "evalue": "",
     "output_type": "error",
     "traceback": [
      "\u001b[1;31m---------------------------------------------------------------------------\u001b[0m",
      "\u001b[1;31mMemoryError\u001b[0m                               Traceback (most recent call last)",
      "\u001b[1;32m<ipython-input-13-6b3cf6747cf0>\u001b[0m in \u001b[0;36m<module>\u001b[1;34m\u001b[0m\n\u001b[1;32m----> 1\u001b[1;33m \u001b[0mdecoding_labels\u001b[0m \u001b[1;33m=\u001b[0m \u001b[0mget_decoding_labels\u001b[0m\u001b[1;33m(\u001b[0m\u001b[0mdecoding_data\u001b[0m\u001b[1;33m)\u001b[0m\u001b[1;33m\u001b[0m\u001b[1;33m\u001b[0m\u001b[0m\n\u001b[0m",
      "\u001b[1;32m<ipython-input-12-5e9fa252d1d0>\u001b[0m in \u001b[0;36mget_decoding_labels\u001b[1;34m(decoding_input_data)\u001b[0m\n\u001b[0;32m      4\u001b[0m \u001b[1;31m## Get Decoding Labels\u001b[0m\u001b[1;33m\u001b[0m\u001b[1;33m\u001b[0m\u001b[1;33m\u001b[0m\u001b[0m\n\u001b[0;32m      5\u001b[0m \u001b[1;32mdef\u001b[0m \u001b[0mget_decoding_labels\u001b[0m\u001b[1;33m(\u001b[0m\u001b[0mdecoding_input_data\u001b[0m\u001b[1;33m)\u001b[0m\u001b[1;33m:\u001b[0m\u001b[1;33m\u001b[0m\u001b[1;33m\u001b[0m\u001b[0m\n\u001b[1;32m----> 6\u001b[1;33m     \u001b[0mdecoding_labels\u001b[0m \u001b[1;33m=\u001b[0m \u001b[0mnp\u001b[0m\u001b[1;33m.\u001b[0m\u001b[0mzeros\u001b[0m\u001b[1;33m(\u001b[0m\u001b[1;33m(\u001b[0m\u001b[0mno_of_conves\u001b[0m\u001b[1;33m,\u001b[0m \u001b[0mmax_len\u001b[0m\u001b[1;33m,\u001b[0m \u001b[0mvocab_size\u001b[0m\u001b[1;33m)\u001b[0m\u001b[1;33m,\u001b[0m \u001b[0mdtype\u001b[0m\u001b[1;33m=\u001b[0m \u001b[0mnp\u001b[0m\u001b[1;33m.\u001b[0m\u001b[0mfloat16\u001b[0m\u001b[1;33m)\u001b[0m\u001b[1;33m\u001b[0m\u001b[1;33m\u001b[0m\u001b[0m\n\u001b[0m\u001b[0;32m      7\u001b[0m     \u001b[1;32mfor\u001b[0m \u001b[0mi\u001b[0m\u001b[1;33m,\u001b[0m \u001b[0msequences\u001b[0m \u001b[1;32min\u001b[0m \u001b[0menumerate\u001b[0m\u001b[1;33m(\u001b[0m\u001b[0mdecoding_input_data\u001b[0m\u001b[1;33m)\u001b[0m\u001b[1;33m:\u001b[0m\u001b[1;33m\u001b[0m\u001b[1;33m\u001b[0m\u001b[0m\n\u001b[0;32m      8\u001b[0m         \u001b[1;32mfor\u001b[0m \u001b[0mj\u001b[0m\u001b[1;33m,\u001b[0m \u001b[0msequence\u001b[0m \u001b[1;32min\u001b[0m \u001b[0menumerate\u001b[0m\u001b[1;33m(\u001b[0m\u001b[0msequences\u001b[0m\u001b[1;33m)\u001b[0m\u001b[1;33m:\u001b[0m\u001b[1;33m\u001b[0m\u001b[1;33m\u001b[0m\u001b[0m\n",
      "\u001b[1;31mMemoryError\u001b[0m: "
     ]
    }
   ],
   "source": [
    "decoding_labels = get_decoding_labels(decoding_data)"
   ]
  },
  {
   "cell_type": "markdown",
   "metadata": {
    "colab_type": "text",
    "id": "JGly2b8pDz0S"
   },
   "source": [
    "#Generating Embedding matrix for embedding layer"
   ]
  },
  {
   "cell_type": "code",
   "execution_count": 0,
   "metadata": {
    "colab": {},
    "colab_type": "code",
    "id": "-fezrAxmfLXp"
   },
   "outputs": [],
   "source": [
    "embeddings_dict = {}\n",
    "\n",
    "## just tried with glove word2vec to check that the performance is good or not \n",
    "with open(\"/content/drive/My Drive/glove.6B.100d.txt\", 'r') as f:\n",
    "    for line in f:\n",
    "        values = line.split()\n",
    "        word = values[0]\n",
    "        vector = np.asarray(values[1:], \"float32\")\n",
    "        embeddings_dict[word] = vector\n",
    "\n",
    "embedding_dim = 100\n",
    "# embedding_words = {}\n",
    "embedding_matrix = np.zeros((len(index_word) + 1,embedding_dim ))\n",
    "count = 0 \n",
    "## create embedding matrix using word vector from glove\n",
    "for i,word in index_word.items():\n",
    "    if word != '<bos>' and word != '<eos>':\n",
    "        if word in embeddings_dict:\n",
    "            embedding_matrix[i] = embeddings_dict[word]\n",
    "        # else:\n",
    "            # print(word)\n",
    "        \n",
    "del embeddings_dict        "
   ]
  },
  {
   "cell_type": "code",
   "execution_count": 0,
   "metadata": {
    "colab": {},
    "colab_type": "code",
    "id": "2wGzpdc_igYT"
   },
   "outputs": [],
   "source": [
    "from keras.layers import Embedding\n",
    "from keras.layers import Input, Dense, LSTM, TimeDistributed\n",
    "from keras.models import Model"
   ]
  },
  {
   "cell_type": "markdown",
   "metadata": {
    "colab_type": "text",
    "id": "S_vkiOYRD6Qv"
   },
   "source": [
    "# Insert Embedding Layer"
   ]
  },
  {
   "cell_type": "code",
   "execution_count": 0,
   "metadata": {
    "colab": {},
    "colab_type": "code",
    "id": "MnQJcd2uigML"
   },
   "outputs": [],
   "source": [
    "def create_embedding_layer():\n",
    "## Create Embedding Layer    \n",
    "    embed_layer = Embedding(input_dim=vocab_size, output_dim = 100, trainable=True,)\n",
    "    embed_layer.build((None,))\n",
    "    embed_layer.set_weights([embedding_matrix])\n",
    "    return embed_layer"
   ]
  },
  {
   "cell_type": "code",
   "execution_count": 12,
   "metadata": {
    "colab": {
     "base_uri": "https://localhost:8080/",
     "height": 339
    },
    "colab_type": "code",
    "id": "ZU5lnMqPikKF",
    "outputId": "7837317c-f11a-4e4b-f8b3-192af2848f19"
   },
   "outputs": [
    {
     "name": "stdout",
     "output_type": "stream",
     "text": [
      "WARNING:tensorflow:From /usr/local/lib/python3.6/dist-packages/keras/backend/tensorflow_backend.py:66: The name tf.get_default_graph is deprecated. Please use tf.compat.v1.get_default_graph instead.\n",
      "\n",
      "WARNING:tensorflow:From /usr/local/lib/python3.6/dist-packages/keras/backend/tensorflow_backend.py:4432: The name tf.random_uniform is deprecated. Please use tf.random.uniform instead.\n",
      "\n",
      "WARNING:tensorflow:From /usr/local/lib/python3.6/dist-packages/keras/backend/tensorflow_backend.py:190: The name tf.get_default_session is deprecated. Please use tf.compat.v1.get_default_session instead.\n",
      "\n",
      "WARNING:tensorflow:From /usr/local/lib/python3.6/dist-packages/keras/backend/tensorflow_backend.py:197: The name tf.ConfigProto is deprecated. Please use tf.compat.v1.ConfigProto instead.\n",
      "\n",
      "WARNING:tensorflow:From /usr/local/lib/python3.6/dist-packages/keras/backend/tensorflow_backend.py:203: The name tf.Session is deprecated. Please use tf.compat.v1.Session instead.\n",
      "\n",
      "WARNING:tensorflow:From /usr/local/lib/python3.6/dist-packages/keras/backend/tensorflow_backend.py:207: The name tf.global_variables is deprecated. Please use tf.compat.v1.global_variables instead.\n",
      "\n",
      "WARNING:tensorflow:From /usr/local/lib/python3.6/dist-packages/keras/backend/tensorflow_backend.py:216: The name tf.is_variable_initialized is deprecated. Please use tf.compat.v1.is_variable_initialized instead.\n",
      "\n",
      "WARNING:tensorflow:From /usr/local/lib/python3.6/dist-packages/keras/backend/tensorflow_backend.py:223: The name tf.variables_initializer is deprecated. Please use tf.compat.v1.variables_initializer instead.\n",
      "\n",
      "WARNING:tensorflow:From /usr/local/lib/python3.6/dist-packages/keras/backend/tensorflow_backend.py:2725: The name tf.placeholder is deprecated. Please use tf.compat.v1.placeholder instead.\n",
      "\n"
     ]
    }
   ],
   "source": [
    "embed_layer = create_embedding_layer()"
   ]
  },
  {
   "cell_type": "markdown",
   "metadata": {
    "colab_type": "text",
    "id": "Nemt95X5EBmM"
   },
   "source": [
    "# Build Model Function"
   ]
  },
  {
   "cell_type": "code",
   "execution_count": 0,
   "metadata": {
    "colab": {},
    "colab_type": "code",
    "id": "i3bCeLtygjHU"
   },
   "outputs": [],
   "source": [
    "def build_model(hidden_lstm_cell):\n",
    "\n",
    "## inputs - Embedding Layer - LSTM cell where each gives us states_h and states_c    \n",
    "    encoder_inputs = Input(shape=(max_len, ), dtype='int32',)\n",
    "    encoder_embedding = embed_layer(encoder_inputs)\n",
    "    encoder_LSTM = LSTM(hidden_lstm_cell, return_state=True)\n",
    "    _, state_h, state_c = encoder_LSTM(encoder_embedding)\n",
    "    \n",
    "## Outputs - decoder inputs - embedding layer - LSTM cell - Dense layer softmax function - which gives output to 0 - 1\n",
    "## and compare with decoder labels\n",
    "    decoder_inputs = Input(shape=(max_len, ), dtype='int32',)\n",
    "    decoder_embedding = embed_layer(decoder_inputs)\n",
    "    decoder_LSTM = LSTM(hidden_lstm_cell, return_state=True, return_sequences=True)\n",
    "    decoder_outputs, _, _ = decoder_LSTM(decoder_embedding, initial_state=[state_h, state_c])\n",
    "    \n",
    "    # dense_layer = Dense(VOCAB_SIZE, activation='softmax')\n",
    "    outputs = TimeDistributed(Dense(vocab_size, activation='softmax'))(decoder_outputs)\n",
    "    model = Model([encoder_inputs, decoder_inputs], outputs)\n",
    "    \n",
    "    return model"
   ]
  },
  {
   "cell_type": "code",
   "execution_count": 0,
   "metadata": {
    "colab": {},
    "colab_type": "code",
    "id": "oY7TUoJLibD1"
   },
   "outputs": [],
   "source": [
    "seq2seq_model = build_model(hidden_lstm_cell = 300)"
   ]
  },
  {
   "cell_type": "code",
   "execution_count": 15,
   "metadata": {
    "colab": {
     "base_uri": "https://localhost:8080/",
     "height": 403
    },
    "colab_type": "code",
    "id": "C51F_MHOicuk",
    "outputId": "be48d3b6-f0de-417e-fe1b-f377e7595970"
   },
   "outputs": [
    {
     "name": "stdout",
     "output_type": "stream",
     "text": [
      "Model: \"model_1\"\n",
      "__________________________________________________________________________________________________\n",
      "Layer (type)                    Output Shape         Param #     Connected to                     \n",
      "==================================================================================================\n",
      "input_2 (InputLayer)            (None, 15)           0                                            \n",
      "__________________________________________________________________________________________________\n",
      "input_1 (InputLayer)            (None, 15)           0                                            \n",
      "__________________________________________________________________________________________________\n",
      "embedding_1 (Embedding)         (None, 15, 100)      1500000     input_1[0][0]                    \n",
      "                                                                 input_2[0][0]                    \n",
      "__________________________________________________________________________________________________\n",
      "lstm_1 (LSTM)                   [(None, 300), (None, 481200      embedding_1[0][0]                \n",
      "__________________________________________________________________________________________________\n",
      "lstm_2 (LSTM)                   [(None, 15, 300), (N 481200      embedding_1[1][0]                \n",
      "                                                                 lstm_1[0][1]                     \n",
      "                                                                 lstm_1[0][2]                     \n",
      "__________________________________________________________________________________________________\n",
      "time_distributed_1 (TimeDistrib (None, 15, 15000)    4515000     lstm_2[0][0]                     \n",
      "==================================================================================================\n",
      "Total params: 6,977,400\n",
      "Trainable params: 6,977,400\n",
      "Non-trainable params: 0\n",
      "__________________________________________________________________________________________________\n"
     ]
    }
   ],
   "source": [
    "seq2seq_model.summary()"
   ]
  },
  {
   "cell_type": "markdown",
   "metadata": {
    "colab_type": "text",
    "id": "aGT2Ax6ZEPig"
   },
   "source": [
    "# Loss = Categorical CrossEntropy , Optimizer - ADAM"
   ]
  },
  {
   "cell_type": "code",
   "execution_count": 16,
   "metadata": {
    "colab": {
     "base_uri": "https://localhost:8080/",
     "height": 104
    },
    "colab_type": "code",
    "id": "OdLcXTliirGC",
    "outputId": "ef248a75-c775-4f87-c1b1-6735ecd92fa1"
   },
   "outputs": [
    {
     "name": "stdout",
     "output_type": "stream",
     "text": [
      "WARNING:tensorflow:From /usr/local/lib/python3.6/dist-packages/keras/optimizers.py:793: The name tf.train.Optimizer is deprecated. Please use tf.compat.v1.train.Optimizer instead.\n",
      "\n",
      "WARNING:tensorflow:From /usr/local/lib/python3.6/dist-packages/keras/backend/tensorflow_backend.py:3576: The name tf.log is deprecated. Please use tf.math.log instead.\n",
      "\n"
     ]
    }
   ],
   "source": [
    "### Seq2Seq Model Optimizer , Loss , metrics used\n",
    "seq2seq_model.compile(optimizer='adam', loss ='categorical_crossentropy', metrics = ['accuracy'])"
   ]
  },
  {
   "cell_type": "code",
   "execution_count": 0,
   "metadata": {
    "colab": {},
    "colab_type": "code",
    "id": "hivbT6GLmAg_"
   },
   "outputs": [],
   "source": [
    "# seq2seq_model.save('/content/drive/My Drive/epochs_0.h5')"
   ]
  },
  {
   "cell_type": "code",
   "execution_count": 0,
   "metadata": {
    "colab": {},
    "colab_type": "code",
    "id": "cSRN3Zapm19Y"
   },
   "outputs": [],
   "source": [
    "from keras.models import load_model\n",
    "## Its written 50 but it was trained on 15 epochs\n",
    "seq2seq_model = load_model('/content/drive/My Drive/epochs_220.h5')"
   ]
  },
  {
   "cell_type": "markdown",
   "metadata": {
    "colab_type": "text",
    "id": "n2qAzPkIEY2O"
   },
   "source": [
    "# Run Model with batch size = 400 and epochs = 20"
   ]
  },
  {
   "cell_type": "code",
   "execution_count": 19,
   "metadata": {
    "colab": {
     "base_uri": "https://localhost:8080/",
     "height": 826
    },
    "colab_type": "code",
    "id": "BGd5-j0aivOw",
    "outputId": "fab2ec35-10b7-4696-94b2-0db1c1209818"
   },
   "outputs": [
    {
     "name": "stdout",
     "output_type": "stream",
     "text": [
      "WARNING:tensorflow:From /usr/local/lib/python3.6/dist-packages/tensorflow_core/python/ops/math_grad.py:1424: where (from tensorflow.python.ops.array_ops) is deprecated and will be removed in a future version.\n",
      "Instructions for updating:\n",
      "Use tf.where in 2.0, which has the same broadcast rule as np.where\n",
      "WARNING:tensorflow:From /usr/local/lib/python3.6/dist-packages/keras/backend/tensorflow_backend.py:1033: The name tf.assign_add is deprecated. Please use tf.compat.v1.assign_add instead.\n",
      "\n",
      "WARNING:tensorflow:From /usr/local/lib/python3.6/dist-packages/keras/backend/tensorflow_backend.py:1020: The name tf.assign is deprecated. Please use tf.compat.v1.assign instead.\n",
      "\n",
      "Epoch 1/20\n",
      "53331/53331 [==============================] - 127s 2ms/step - loss: 4.3091 - acc: 0.4118\n",
      "Epoch 2/20\n",
      "53331/53331 [==============================] - 118s 2ms/step - loss: 3.5513 - acc: 0.4751\n",
      "Epoch 3/20\n",
      "53331/53331 [==============================] - 121s 2ms/step - loss: 3.4554 - acc: 0.4808\n",
      "Epoch 4/20\n",
      "53331/53331 [==============================] - 122s 2ms/step - loss: 3.3861 - acc: 0.4830\n",
      "Epoch 5/20\n",
      "53331/53331 [==============================] - 122s 2ms/step - loss: 3.3215 - acc: 0.4889\n",
      "Epoch 6/20\n",
      "53331/53331 [==============================] - 122s 2ms/step - loss: 3.2656 - acc: 0.4934\n",
      "Epoch 7/20\n",
      "53331/53331 [==============================] - 122s 2ms/step - loss: 3.2137 - acc: 0.4982\n",
      "Epoch 8/20\n",
      "53331/53331 [==============================] - 122s 2ms/step - loss: 3.1543 - acc: 0.5039\n",
      "Epoch 9/20\n",
      "53331/53331 [==============================] - 122s 2ms/step - loss: 3.1040 - acc: 0.5089\n",
      "Epoch 10/20\n",
      "53331/53331 [==============================] - 122s 2ms/step - loss: 3.0627 - acc: 0.5124\n",
      "Epoch 11/20\n",
      "53331/53331 [==============================] - 122s 2ms/step - loss: 3.0275 - acc: 0.5149\n",
      "Epoch 12/20\n",
      "53331/53331 [==============================] - 121s 2ms/step - loss: 2.9952 - acc: 0.5171\n",
      "Epoch 13/20\n",
      "53331/53331 [==============================] - 121s 2ms/step - loss: 2.9676 - acc: 0.5193\n",
      "Epoch 14/20\n",
      "53331/53331 [==============================] - 121s 2ms/step - loss: 2.9416 - acc: 0.5210\n",
      "Epoch 15/20\n",
      "53331/53331 [==============================] - 121s 2ms/step - loss: 2.9189 - acc: 0.5226\n",
      "Epoch 16/20\n",
      "53331/53331 [==============================] - 120s 2ms/step - loss: 2.8972 - acc: 0.5239\n",
      "Epoch 17/20\n",
      "53331/53331 [==============================] - 119s 2ms/step - loss: 2.8788 - acc: 0.5250\n",
      "Epoch 18/20\n",
      "53331/53331 [==============================] - 119s 2ms/step - loss: 2.8600 - acc: 0.5264\n",
      "Epoch 19/20\n",
      "53331/53331 [==============================] - 119s 2ms/step - loss: 2.8425 - acc: 0.5274\n",
      "Epoch 20/20\n",
      "53331/53331 [==============================] - 120s 2ms/step - loss: 2.8254 - acc: 0.5286\n"
     ]
    }
   ],
   "source": [
    "EPOCHS = 20\n",
    "BATCH_SIZE = 400\n",
    "history = seq2seq_model.fit([encoding_data, decoding_data], \n",
    "                     decoding_labels, \n",
    "                     epochs=EPOCHS, \n",
    "                     batch_size=BATCH_SIZE)"
   ]
  },
  {
   "cell_type": "code",
   "execution_count": 0,
   "metadata": {
    "colab": {},
    "colab_type": "code",
    "id": "zhkjHgIPi6bb"
   },
   "outputs": [],
   "source": [
    "seq2seq_model.save('epochs_240.h5')"
   ]
  },
  {
   "cell_type": "code",
   "execution_count": 0,
   "metadata": {
    "colab": {},
    "colab_type": "code",
    "id": "eOMCP57Opkjz"
   },
   "outputs": [],
   "source": [
    "with open('seq2seqhist_240.pickle', 'wb') as file_pi:\n",
    "    pickle.dump(history.history, file_pi)"
   ]
  },
  {
   "cell_type": "code",
   "execution_count": 16,
   "metadata": {
    "colab": {
     "base_uri": "https://localhost:8080/",
     "height": 370
    },
    "colab_type": "code",
    "id": "vpYbi3HJutkp",
    "outputId": "a64da020-0fe1-4d69-d72e-7987f9c5789e"
   },
   "outputs": [],
   "source": [
    "import re\n",
    "from keras.preprocessing.sequence import pad_sequences\n",
    "## doing preprocessing \n"
   ]
  },
  {
   "cell_type": "code",
   "execution_count": 17,
   "metadata": {
    "colab": {},
    "colab_type": "code",
    "id": "UF0H6UhnVXlK"
   },
   "outputs": [],
   "source": [
    "\n",
    "## Preprocess Test Data Function\n",
    "def preprocess_text(text):\n",
    "    \n",
    "    text = text.lower()\n",
    "    text = re.sub(r\"'til\", \"until\", text)\n",
    "    text = re.sub(r\"i'm\", \"i am\", text)\n",
    "    text = re.sub(r\"he's\", \"he is\", text)\n",
    "    text = re.sub(r\"\\'re\", \" are\", text)\n",
    "    text = re.sub(r\"that's\", \"that is\", text)\n",
    "    text = re.sub(r\"she's\", \"she is\", text)\n",
    "    text = re.sub(r\"it's\", \"it is\", text)\n",
    "    text = re.sub(r\"where's\", \"where is\", text)\n",
    "    text = re.sub(r\"what's\", \"that is\", text)\n",
    "    text = re.sub(r\"\\'ve\", \" have\", text)\n",
    "    text = re.sub(r\"how's\", \"how is\", text)\n",
    "    text = re.sub(r\"\\'ll\", \" will\", text)\n",
    "    text = re.sub(r\"'bout\", \"about\", text)\n",
    "    text = re.sub(r\"\\'d\", \" would\", text)\n",
    "    text = re.sub(r\"\\'re\", \" are\", text)\n",
    "    text = re.sub(r\"n't\", \" not\", text)\n",
    "    text = re.sub(r\"won't\", \"will not\", text)\n",
    "    text = re.sub(r\"can't\", \"cannot\", text)\n",
    "    text = re.sub(r\"n'\", \"ng\", text)\n",
    "    \n",
    "    \n",
    "    text = re.sub(r\"[-()\\\"#/@;:<>{}`+=~|.!?,]\", \"\", text)\n",
    "    \n",
    "    return text\n",
    "\n",
    "\n",
    "## Sample test Data\n",
    "speaker_test_data = [\"whats up\",\n",
    "                    \"hi\",\n",
    "                    \"how are you\",\n",
    "                    \"Thank You\",\n",
    "                    \"Sorry\"\n",
    "                    ]\n"
   ]
  },
  {
   "cell_type": "code",
   "execution_count": 18,
   "metadata": {
    "colab": {},
    "colab_type": "code",
    "id": "5bYk2wB4reUL"
   },
   "outputs": [],
   "source": [
    "reference_test_output = [ \" Nothing much\",\n",
    "                         \"Hello\",\n",
    "                         \"I am fine\",\n",
    "                         \"You're Welcome\"\n",
    "                         \"No problem\"\n",
    "                        ]"
   ]
  },
  {
   "cell_type": "code",
   "execution_count": 19,
   "metadata": {
    "colab": {},
    "colab_type": "code",
    "id": "5eImu6pTVmsM"
   },
   "outputs": [],
   "source": [
    "# import rouge as Rouge\n",
    "\n",
    "def test_data():\n",
    "\n",
    "  scores = 0\n",
    "  max_len = 15\n",
    "  ## Decoding input data for test set\n",
    "  decoding_input_test_data = np.asarray([np.zeros((15,))])\n",
    "  ## Appending index of '<bos>' and '<eos>\n",
    "  for a_array in decoding_input_test_data:\n",
    "      a_array[0] = word_index['<bos>']\n",
    "      a_array[14] = word_index['<eos>']\n",
    "  ## input string \n",
    "  for i,test_encoder_string in enumerate(speaker_test_data):\n",
    "      print(\"\\n\" + test_encoder_string + \"\\n\")\n",
    "      encoding_test_seq = []\n",
    "      test_encoder_string = preprocess_text(test_encoder_string)\n",
    "      ## Split the string\n",
    "      test_encoder_words = test_encoder_string.split()\n",
    "      encoding_test_seq.append([word_index[word] for word in test_encoder_words if word in word_index])\n",
    "\n",
    "      # encoding_test_seq = tokenizer.texts_to_sequences(test_encoder_words)\n",
    "      # print(\"encoding_test\", encoding_test_seq)\n",
    "      encoding_test_data = pad_sequences(encoding_test_seq, maxlen = max_len, dtype='int32', padding='post', truncating='post')\n",
    "      # print(encoding_test_data)\n",
    "      decoding_test_pdata = seq2seq_model.predict([encoding_test_data, decoding_input_test_data])\n",
    "      decoding_test_pdata = decoding_test_pdata[0][:,:14]\n",
    "      decoding_test_pdata = np.argmax(decoding_test_pdata, axis=1)\n",
    "      response_test_data = ''\n",
    "      for i in decoding_test_pdata:\n",
    "          if i in index_word:\n",
    "            if index_word[i] !='<eos>':\n",
    "              response_test_data += index_word[i] + \" \"\n",
    "      # scores += abs(rouge1.get_scores(response_test_data, reference_test_output[i]))\n",
    "\n",
    "      print(response_test_data)\n",
    "  # print(\"Average Rouge Score -  \",scores/len(reference_test_output))"
   ]
  },
  {
   "cell_type": "code",
   "execution_count": 20,
   "metadata": {
    "colab": {
     "base_uri": "https://localhost:8080/",
     "height": 672
    },
    "colab_type": "code",
    "id": "zEgoAzZP8Ze7",
    "outputId": "8525701e-0354-461b-88b0-8ee043959499"
   },
   "outputs": [
    {
     "name": "stdout",
     "output_type": "stream",
     "text": [
      "\n",
      "whats up\n",
      "\n"
     ]
    },
    {
     "ename": "NameError",
     "evalue": "name 'seq2seq_model' is not defined",
     "output_type": "error",
     "traceback": [
      "\u001b[1;31m---------------------------------------------------------------------------\u001b[0m",
      "\u001b[1;31mNameError\u001b[0m                                 Traceback (most recent call last)",
      "\u001b[1;32m<ipython-input-20-0c9fbc406ac5>\u001b[0m in \u001b[0;36m<module>\u001b[1;34m\u001b[0m\n\u001b[0;32m      1\u001b[0m \u001b[1;31m## Test output after 60 epochs\u001b[0m\u001b[1;33m\u001b[0m\u001b[1;33m\u001b[0m\u001b[1;33m\u001b[0m\u001b[0m\n\u001b[1;32m----> 2\u001b[1;33m \u001b[0mtest_data\u001b[0m\u001b[1;33m(\u001b[0m\u001b[1;33m)\u001b[0m\u001b[1;33m\u001b[0m\u001b[1;33m\u001b[0m\u001b[0m\n\u001b[0m",
      "\u001b[1;32m<ipython-input-19-863c03d92b1a>\u001b[0m in \u001b[0;36mtest_data\u001b[1;34m()\u001b[0m\n\u001b[0;32m     24\u001b[0m       \u001b[0mencoding_test_data\u001b[0m \u001b[1;33m=\u001b[0m \u001b[0mpad_sequences\u001b[0m\u001b[1;33m(\u001b[0m\u001b[0mencoding_test_seq\u001b[0m\u001b[1;33m,\u001b[0m \u001b[0mmaxlen\u001b[0m \u001b[1;33m=\u001b[0m \u001b[0mmax_len\u001b[0m\u001b[1;33m,\u001b[0m \u001b[0mdtype\u001b[0m\u001b[1;33m=\u001b[0m\u001b[1;34m'int32'\u001b[0m\u001b[1;33m,\u001b[0m \u001b[0mpadding\u001b[0m\u001b[1;33m=\u001b[0m\u001b[1;34m'post'\u001b[0m\u001b[1;33m,\u001b[0m \u001b[0mtruncating\u001b[0m\u001b[1;33m=\u001b[0m\u001b[1;34m'post'\u001b[0m\u001b[1;33m)\u001b[0m\u001b[1;33m\u001b[0m\u001b[1;33m\u001b[0m\u001b[0m\n\u001b[0;32m     25\u001b[0m       \u001b[1;31m# print(encoding_test_data)\u001b[0m\u001b[1;33m\u001b[0m\u001b[1;33m\u001b[0m\u001b[1;33m\u001b[0m\u001b[0m\n\u001b[1;32m---> 26\u001b[1;33m       \u001b[0mdecoding_test_pdata\u001b[0m \u001b[1;33m=\u001b[0m \u001b[0mseq2seq_model\u001b[0m\u001b[1;33m.\u001b[0m\u001b[0mpredict\u001b[0m\u001b[1;33m(\u001b[0m\u001b[1;33m[\u001b[0m\u001b[0mencoding_test_data\u001b[0m\u001b[1;33m,\u001b[0m \u001b[0mdecoding_input_test_data\u001b[0m\u001b[1;33m]\u001b[0m\u001b[1;33m)\u001b[0m\u001b[1;33m\u001b[0m\u001b[1;33m\u001b[0m\u001b[0m\n\u001b[0m\u001b[0;32m     27\u001b[0m       \u001b[0mdecoding_test_pdata\u001b[0m \u001b[1;33m=\u001b[0m \u001b[0mdecoding_test_pdata\u001b[0m\u001b[1;33m[\u001b[0m\u001b[1;36m0\u001b[0m\u001b[1;33m]\u001b[0m\u001b[1;33m[\u001b[0m\u001b[1;33m:\u001b[0m\u001b[1;33m,\u001b[0m\u001b[1;33m:\u001b[0m\u001b[1;36m14\u001b[0m\u001b[1;33m]\u001b[0m\u001b[1;33m\u001b[0m\u001b[1;33m\u001b[0m\u001b[0m\n\u001b[0;32m     28\u001b[0m       \u001b[0mdecoding_test_pdata\u001b[0m \u001b[1;33m=\u001b[0m \u001b[0mnp\u001b[0m\u001b[1;33m.\u001b[0m\u001b[0margmax\u001b[0m\u001b[1;33m(\u001b[0m\u001b[0mdecoding_test_pdata\u001b[0m\u001b[1;33m,\u001b[0m \u001b[0maxis\u001b[0m\u001b[1;33m=\u001b[0m\u001b[1;36m1\u001b[0m\u001b[1;33m)\u001b[0m\u001b[1;33m\u001b[0m\u001b[1;33m\u001b[0m\u001b[0m\n",
      "\u001b[1;31mNameError\u001b[0m: name 'seq2seq_model' is not defined"
     ]
    }
   ],
   "source": [
    " ## Test output after 60 epochs \n",
    " test_data()"
   ]
  },
  {
   "cell_type": "code",
   "execution_count": 0,
   "metadata": {
    "colab": {},
    "colab_type": "code",
    "id": "CwNccy9xz-c6"
   },
   "outputs": [],
   "source": [
    "def plot_data():\n",
    "    plt.plot(history.history['acc'])\n",
    "    plt.title('Model accuracy First 200 Epochs')\n",
    "    plt.ylabel('Accuracy')\n",
    "    plt.xlabel('Epoch')\n",
    "    plt.legend(['Train', 'Test'], loc='upper left')\n",
    "    plt.show()\n",
    "\n",
    "    # Plot training & validation loss values\n",
    "    plt.plot(history.history['loss'])\n",
    "    plt.title('Model loss First 200 Epochs')\n",
    "    plt.ylabel('Loss')\n",
    "    plt.xlabel('Epoch')\n",
    "    plt.legend(['Train', 'Test'], loc='upper left')\n",
    "    plt.show()"
   ]
  },
  {
   "cell_type": "code",
   "execution_count": 61,
   "metadata": {
    "colab": {
     "base_uri": "https://localhost:8080/",
     "height": 573
    },
    "colab_type": "code",
    "id": "kIQyaAb0yMdp",
    "outputId": "46609f0e-904b-48c5-b758-7ef7d4ff0bb9"
   },
   "outputs": [
    {
     "data": {
      "image/png": "[encoded data removed]",
      "text/plain": [
       "<Figure size 432x288 with 1 Axes>"
      ]
     },
     "metadata": {
      "tags": []
     },
     "output_type": "display_data"
    },
    {
     "data": {
      "image/png": "[encoded data removed]",
      "text/plain": [
       "<Figure size 432x288 with 1 Axes>"
      ]
     },
     "metadata": {
      "tags": []
     },
     "output_type": "display_data"
    }
   ],
   "source": [
    "plot_data()"
   ]
  }
 ],
 "metadata": {
  "accelerator": "GPU",
  "colab": {
   "collapsed_sections": [],
   "machine_shape": "hm",
   "name": "NLP Project-2.ipynb",
   "provenance": []
  },
  "kernelspec": {
   "display_name": "Python 3",
   "language": "python",
   "name": "python3"
  },
  "language_info": {
   "codemirror_mode": {
    "name": "ipython",
    "version": 3
   },
   "file_extension": ".py",
   "mimetype": "text/x-python",
   "name": "python",
   "nbconvert_exporter": "python",
   "pygments_lexer": "ipython3",
   "version": "3.7.3"
  }
 },
 "nbformat": 4,
 "nbformat_minor": 1
}
